{
 "cells": [
  {
   "cell_type": "code",
   "execution_count": 1,
   "metadata": {
    "colab": {},
    "colab_type": "code",
    "id": "NxZA15odasR2"
   },
   "outputs": [
    {
     "name": "stderr",
     "output_type": "stream",
     "text": [
      "C:\\Users\\Theochem\\Anaconda3\\lib\\site-packages\\gensim\\utils.py:1209: UserWarning: detected Windows; aliasing chunkize to chunkize_serial\n",
      "  warnings.warn(\"detected Windows; aliasing chunkize to chunkize_serial\")\n"
     ]
    }
   ],
   "source": [
    "import numpy as np\n",
    "import glob\n",
    "import pandas as pd\n",
    "import codecs\n",
    "import gensim\n",
    "from gensim.models import Word2Vec\n",
    "from gensim.utils import simple_preprocess\n",
    "from gensim.models.keyedvectors import KeyedVectors"
   ]
  },
  {
   "cell_type": "markdown",
   "metadata": {},
   "source": [
    "![Problem](problem.jpg)"
   ]
  },
  {
   "cell_type": "code",
   "execution_count": 2,
   "metadata": {
    "colab": {
     "base_uri": "https://localhost:8080/",
     "height": 714
    },
    "colab_type": "code",
    "id": "CYXXn-mGa357",
    "outputId": "ea024998-3226-4267-88b6-3ad7221f6fed"
   },
   "outputs": [
    {
     "name": "stdout",
     "output_type": "stream",
     "text": [
      "Collecting gensim\n",
      "\u001b[?25l  Downloading https://files.pythonhosted.org/packages/86/f3/37504f07651330ddfdefa631ca5246974a60d0908216539efda842fd080f/gensim-3.5.0-cp36-cp36m-manylinux1_x86_64.whl (23.5MB)\n",
      "\u001b[K    100% |████████████████████████████████| 23.5MB 1.5MB/s \n",
      "\u001b[?25hRequirement already satisfied: scipy>=0.18.1 in /usr/local/lib/python3.6/dist-packages (from gensim) (0.19.1)\n",
      "Requirement already satisfied: numpy>=1.11.3 in /usr/local/lib/python3.6/dist-packages (from gensim) (1.14.5)\n",
      "Collecting smart-open>=1.2.1 (from gensim)\n",
      "  Downloading https://files.pythonhosted.org/packages/cf/3d/5f3a9a296d0ba8e00e263a8dee76762076b9eb5ddc254ccaa834651c8d65/smart_open-1.6.0.tar.gz\n",
      "Requirement already satisfied: six>=1.5.0 in /usr/local/lib/python3.6/dist-packages (from gensim) (1.11.0)\n",
      "Collecting boto>=2.32 (from smart-open>=1.2.1->gensim)\n",
      "\u001b[?25l  Downloading https://files.pythonhosted.org/packages/23/10/c0b78c27298029e4454a472a1919bde20cb182dab1662cec7f2ca1dcc523/boto-2.49.0-py2.py3-none-any.whl (1.4MB)\n",
      "\u001b[K    100% |████████████████████████████████| 1.4MB 11.7MB/s \n",
      "\u001b[?25hCollecting bz2file (from smart-open>=1.2.1->gensim)\n",
      "  Downloading https://files.pythonhosted.org/packages/61/39/122222b5e85cd41c391b68a99ee296584b2a2d1d233e7ee32b4532384f2d/bz2file-0.98.tar.gz\n",
      "Requirement already satisfied: requests in /usr/local/lib/python3.6/dist-packages (from smart-open>=1.2.1->gensim) (2.18.4)\n",
      "Collecting boto3 (from smart-open>=1.2.1->gensim)\n",
      "\u001b[?25l  Downloading https://files.pythonhosted.org/packages/a8/45/810f786ce144bfd19d9f2f700a8cd4358435559a2b88b2c235f7bb3f29df/boto3-1.8.6-py2.py3-none-any.whl (128kB)\n",
      "\u001b[K    100% |████████████████████████████████| 133kB 18.8MB/s \n",
      "\u001b[?25hRequirement already satisfied: idna<2.7,>=2.5 in /usr/local/lib/python3.6/dist-packages (from requests->smart-open>=1.2.1->gensim) (2.6)\n",
      "Requirement already satisfied: certifi>=2017.4.17 in /usr/local/lib/python3.6/dist-packages (from requests->smart-open>=1.2.1->gensim) (2018.8.24)\n",
      "Requirement already satisfied: urllib3<1.23,>=1.21.1 in /usr/local/lib/python3.6/dist-packages (from requests->smart-open>=1.2.1->gensim) (1.22)\n",
      "Requirement already satisfied: chardet<3.1.0,>=3.0.2 in /usr/local/lib/python3.6/dist-packages (from requests->smart-open>=1.2.1->gensim) (3.0.4)\n",
      "Collecting s3transfer<0.2.0,>=0.1.10 (from boto3->smart-open>=1.2.1->gensim)\n",
      "\u001b[?25l  Downloading https://files.pythonhosted.org/packages/d7/14/2a0004d487464d120c9fb85313a75cd3d71a7506955be458eebfe19a6b1d/s3transfer-0.1.13-py2.py3-none-any.whl (59kB)\n",
      "\u001b[K    100% |████████████████████████████████| 61kB 9.6MB/s \n",
      "\u001b[?25hCollecting botocore<1.12.0,>=1.11.6 (from boto3->smart-open>=1.2.1->gensim)\n",
      "\u001b[?25l  Downloading https://files.pythonhosted.org/packages/52/86/73e2825c9f452f6ea7ebbd715aa4621eb1f5d5e51e37cd2019437535909c/botocore-1.11.6-py2.py3-none-any.whl (4.6MB)\n",
      "\u001b[K    100% |████████████████████████████████| 4.6MB 7.2MB/s \n",
      "\u001b[?25hCollecting jmespath<1.0.0,>=0.7.1 (from boto3->smart-open>=1.2.1->gensim)\n",
      "  Downloading https://files.pythonhosted.org/packages/b7/31/05c8d001f7f87f0f07289a5fc0fc3832e9a57f2dbd4d3b0fee70e0d51365/jmespath-0.9.3-py2.py3-none-any.whl\n",
      "Requirement already satisfied: python-dateutil<3.0.0,>=2.1; python_version >= \"2.7\" in /usr/local/lib/python3.6/dist-packages (from botocore<1.12.0,>=1.11.6->boto3->smart-open>=1.2.1->gensim) (2.5.3)\n",
      "Collecting docutils>=0.10 (from botocore<1.12.0,>=1.11.6->boto3->smart-open>=1.2.1->gensim)\n",
      "\u001b[?25l  Downloading https://files.pythonhosted.org/packages/36/fa/08e9e6e0e3cbd1d362c3bbee8d01d0aedb2155c4ac112b19ef3cae8eed8d/docutils-0.14-py3-none-any.whl (543kB)\n",
      "\u001b[K    100% |████████████████████████████████| 552kB 16.9MB/s \n",
      "\u001b[?25hBuilding wheels for collected packages: smart-open, bz2file\n",
      "  Running setup.py bdist_wheel for smart-open ... \u001b[?25l-\b \b\\\b \bdone\n",
      "\u001b[?25h  Stored in directory: /root/.cache/pip/wheels/73/f1/9b/ccf93d4ba073b6f79b1ed9df68ab5ce048d8136d0efcf90b30\n",
      "  Running setup.py bdist_wheel for bz2file ... \u001b[?25l-\b \bdone\n",
      "\u001b[?25h  Stored in directory: /root/.cache/pip/wheels/81/75/d6/e1317bf09bf1af5a30befc2a007869fa6e1f516b8f7c591cb9\n",
      "Successfully built smart-open bz2file\n",
      "Installing collected packages: boto, bz2file, jmespath, docutils, botocore, s3transfer, boto3, smart-open, gensim\n",
      "Successfully installed boto-2.49.0 boto3-1.8.6 botocore-1.11.6 bz2file-0.98 docutils-0.14 gensim-3.5.0 jmespath-0.9.3 s3transfer-0.1.13 smart-open-1.6.0\n"
     ]
    }
   ],
   "source": [
    "#for training on google colab\n",
    "!pip install gensim"
   ]
  },
  {
   "cell_type": "markdown",
   "metadata": {
    "colab_type": "text",
    "id": "fxep5JjTasR7"
   },
   "source": [
    "To solve this problem, let's build a CNN/RNN hybrid network in Keras with word embeddings."
   ]
  },
  {
   "cell_type": "code",
   "execution_count": 1,
   "metadata": {
    "colab": {
     "base_uri": "https://localhost:8080/",
     "height": 106,
     "resources": {
      "http://localhost:8080/nbextensions/google.colab/files.js": {
       "data": "Ly8gQ29weXJpZ2h0IDIwMTcgR29vZ2xlIExMQwovLwovLyBMaWNlbnNlZCB1bmRlciB0aGUgQXBhY2hlIExpY2Vuc2UsIFZlcnNpb24gMi4wICh0aGUgIkxpY2Vuc2UiKTsKLy8geW91IG1heSBub3QgdXNlIHRoaXMgZmlsZSBleGNlcHQgaW4gY29tcGxpYW5jZSB3aXRoIHRoZSBMaWNlbnNlLgovLyBZb3UgbWF5IG9idGFpbiBhIGNvcHkgb2YgdGhlIExpY2Vuc2UgYXQKLy8KLy8gICAgICBodHRwOi8vd3d3LmFwYWNoZS5vcmcvbGljZW5zZXMvTElDRU5TRS0yLjAKLy8KLy8gVW5sZXNzIHJlcXVpcmVkIGJ5IGFwcGxpY2FibGUgbGF3IG9yIGFncmVlZCB0byBpbiB3cml0aW5nLCBzb2Z0d2FyZQovLyBkaXN0cmlidXRlZCB1bmRlciB0aGUgTGljZW5zZSBpcyBkaXN0cmlidXRlZCBvbiBhbiAiQVMgSVMiIEJBU0lTLAovLyBXSVRIT1VUIFdBUlJBTlRJRVMgT1IgQ09ORElUSU9OUyBPRiBBTlkgS0lORCwgZWl0aGVyIGV4cHJlc3Mgb3IgaW1wbGllZC4KLy8gU2VlIHRoZSBMaWNlbnNlIGZvciB0aGUgc3BlY2lmaWMgbGFuZ3VhZ2UgZ292ZXJuaW5nIHBlcm1pc3Npb25zIGFuZAovLyBsaW1pdGF0aW9ucyB1bmRlciB0aGUgTGljZW5zZS4KCi8qKgogKiBAZmlsZW92ZXJ2aWV3IEhlbHBlcnMgZm9yIGdvb2dsZS5jb2xhYiBQeXRob24gbW9kdWxlLgogKi8KKGZ1bmN0aW9uKHNjb3BlKSB7CmZ1bmN0aW9uIHNwYW4odGV4dCwgc3R5bGVBdHRyaWJ1dGVzID0ge30pIHsKICBjb25zdCBlbGVtZW50ID0gZG9jdW1lbnQuY3JlYXRlRWxlbWVudCgnc3BhbicpOwogIGVsZW1lbnQudGV4dENvbnRlbnQgPSB0ZXh0OwogIGZvciAoY29uc3Qga2V5IG9mIE9iamVjdC5rZXlzKHN0eWxlQXR0cmlidXRlcykpIHsKICAgIGVsZW1lbnQuc3R5bGVba2V5XSA9IHN0eWxlQXR0cmlidXRlc1trZXldOwogIH0KICByZXR1cm4gZWxlbWVudDsKfQoKLy8gTWF4IG51bWJlciBvZiBieXRlcyB3aGljaCB3aWxsIGJlIHVwbG9hZGVkIGF0IGEgdGltZS4KY29uc3QgTUFYX1BBWUxPQURfU0laRSA9IDEwMCAqIDEwMjQ7Ci8vIE1heCBhbW91bnQgb2YgdGltZSB0byBibG9jayB3YWl0aW5nIGZvciB0aGUgdXNlci4KY29uc3QgRklMRV9DSEFOR0VfVElNRU9VVF9NUyA9IDMwICogMTAwMDsKCmZ1bmN0aW9uIF91cGxvYWRGaWxlcyhpbnB1dElkLCBvdXRwdXRJZCkgewogIGNvbnN0IHN0ZXBzID0gdXBsb2FkRmlsZXNTdGVwKGlucHV0SWQsIG91dHB1dElkKTsKICBjb25zdCBvdXRwdXRFbGVtZW50ID0gZG9jdW1lbnQuZ2V0RWxlbWVudEJ5SWQob3V0cHV0SWQpOwogIC8vIENhY2hlIHN0ZXBzIG9uIHRoZSBvdXRwdXRFbGVtZW50IHRvIG1ha2UgaXQgYXZhaWxhYmxlIGZvciB0aGUgbmV4dCBjYWxsCiAgLy8gdG8gdXBsb2FkRmlsZXNDb250aW51ZSBmcm9tIFB5dGhvbi4KICBvdXRwdXRFbGVtZW50LnN0ZXBzID0gc3RlcHM7CgogIHJldHVybiBfdXBsb2FkRmlsZXNDb250aW51ZShvdXRwdXRJZCk7Cn0KCi8vIFRoaXMgaXMgcm91Z2hseSBhbiBhc3luYyBnZW5lcmF0b3IgKG5vdCBzdXBwb3J0ZWQgaW4gdGhlIGJyb3dzZXIgeWV0KSwKLy8gd2hlcmUgdGhlcmUgYXJlIG11bHRpcGxlIGFzeW5jaHJvbm91cyBzdGVwcyBhbmQgdGhlIFB5dGhvbiBzaWRlIGlzIGdvaW5nCi8vIHRvIHBvbGwgZm9yIGNvbXBsZXRpb24gb2YgZWFjaCBzdGVwLgovLyBUaGlzIHVzZXMgYSBQcm9taXNlIHRvIGJsb2NrIHRoZSBweXRob24gc2lkZSBvbiBjb21wbGV0aW9uIG9mIGVhY2ggc3RlcCwKLy8gdGhlbiBwYXNzZXMgdGhlIHJlc3VsdCBvZiB0aGUgcHJldmlvdXMgc3RlcCBhcyB0aGUgaW5wdXQgdG8gdGhlIG5leHQgc3RlcC4KZnVuY3Rpb24gX3VwbG9hZEZpbGVzQ29udGludWUob3V0cHV0SWQpIHsKICBjb25zdCBvdXRwdXRFbGVtZW50ID0gZG9jdW1lbnQuZ2V0RWxlbWVudEJ5SWQob3V0cHV0SWQpOwogIGNvbnN0IHN0ZXBzID0gb3V0cHV0RWxlbWVudC5zdGVwczsKCiAgY29uc3QgbmV4dCA9IHN0ZXBzLm5leHQob3V0cHV0RWxlbWVudC5sYXN0UHJvbWlzZVZhbHVlKTsKICByZXR1cm4gUHJvbWlzZS5yZXNvbHZlKG5leHQudmFsdWUucHJvbWlzZSkudGhlbigodmFsdWUpID0+IHsKICAgIC8vIENhY2hlIHRoZSBsYXN0IHByb21pc2UgdmFsdWUgdG8gbWFrZSBpdCBhdmFpbGFibGUgdG8gdGhlIG5leHQKICAgIC8vIHN0ZXAgb2YgdGhlIGdlbmVyYXRvci4KICAgIG91dHB1dEVsZW1lbnQubGFzdFByb21pc2VWYWx1ZSA9IHZhbHVlOwogICAgcmV0dXJuIG5leHQudmFsdWUucmVzcG9uc2U7CiAgfSk7Cn0KCi8qKgogKiBHZW5lcmF0b3IgZnVuY3Rpb24gd2hpY2ggaXMgY2FsbGVkIGJldHdlZW4gZWFjaCBhc3luYyBzdGVwIG9mIHRoZSB1cGxvYWQKICogcHJvY2Vzcy4KICogQHBhcmFtIHtzdHJpbmd9IGlucHV0SWQgRWxlbWVudCBJRCBvZiB0aGUgaW5wdXQgZmlsZSBwaWNrZXIgZWxlbWVudC4KICogQHBhcmFtIHtzdHJpbmd9IG91dHB1dElkIEVsZW1lbnQgSUQgb2YgdGhlIG91dHB1dCBkaXNwbGF5LgogKiBAcmV0dXJuIHshSXRlcmFibGU8IU9iamVjdD59IEl0ZXJhYmxlIG9mIG5leHQgc3RlcHMuCiAqLwpmdW5jdGlvbiogdXBsb2FkRmlsZXNTdGVwKGlucHV0SWQsIG91dHB1dElkKSB7CiAgY29uc3QgaW5wdXRFbGVtZW50ID0gZG9jdW1lbnQuZ2V0RWxlbWVudEJ5SWQoaW5wdXRJZCk7CiAgaW5wdXRFbGVtZW50LmRpc2FibGVkID0gZmFsc2U7CgogIGNvbnN0IG91dHB1dEVsZW1lbnQgPSBkb2N1bWVudC5nZXRFbGVtZW50QnlJZChvdXRwdXRJZCk7CiAgb3V0cHV0RWxlbWVudC5pbm5lckhUTUwgPSAnJzsKCiAgY29uc3QgcGlja2VkUHJvbWlzZSA9IG5ldyBQcm9taXNlKChyZXNvbHZlKSA9PiB7CiAgICBpbnB1dEVsZW1lbnQuYWRkRXZlbnRMaXN0ZW5lcignY2hhbmdlJywgKGUpID0+IHsKICAgICAgcmVzb2x2ZShlLnRhcmdldC5maWxlcyk7CiAgICB9KTsKICB9KTsKCiAgY29uc3QgY2FuY2VsID0gZG9jdW1lbnQuY3JlYXRlRWxlbWVudCgnYnV0dG9uJyk7CiAgaW5wdXRFbGVtZW50LnBhcmVudEVsZW1lbnQuYXBwZW5kQ2hpbGQoY2FuY2VsKTsKICBjYW5jZWwudGV4dENvbnRlbnQgPSAnQ2FuY2VsIHVwbG9hZCc7CiAgY29uc3QgY2FuY2VsUHJvbWlzZSA9IG5ldyBQcm9taXNlKChyZXNvbHZlKSA9PiB7CiAgICBjYW5jZWwub25jbGljayA9ICgpID0+IHsKICAgICAgcmVzb2x2ZShudWxsKTsKICAgIH07CiAgfSk7CgogIC8vIENhbmNlbCB1cGxvYWQgaWYgdXNlciBoYXNuJ3QgcGlja2VkIGFueXRoaW5nIGluIHRpbWVvdXQuCiAgY29uc3QgdGltZW91dFByb21pc2UgPSBuZXcgUHJvbWlzZSgocmVzb2x2ZSkgPT4gewogICAgc2V0VGltZW91dCgoKSA9PiB7CiAgICAgIHJlc29sdmUobnVsbCk7CiAgICB9LCBGSUxFX0NIQU5HRV9USU1FT1VUX01TKTsKICB9KTsKCiAgLy8gV2FpdCBmb3IgdGhlIHVzZXIgdG8gcGljayB0aGUgZmlsZXMuCiAgY29uc3QgZmlsZXMgPSB5aWVsZCB7CiAgICBwcm9taXNlOiBQcm9taXNlLnJhY2UoW3BpY2tlZFByb21pc2UsIHRpbWVvdXRQcm9taXNlLCBjYW5jZWxQcm9taXNlXSksCiAgICByZXNwb25zZTogewogICAgICBhY3Rpb246ICdzdGFydGluZycsCiAgICB9CiAgfTsKCiAgaWYgKCFmaWxlcykgewogICAgcmV0dXJuIHsKICAgICAgcmVzcG9uc2U6IHsKICAgICAgICBhY3Rpb246ICdjb21wbGV0ZScsCiAgICAgIH0KICAgIH07CiAgfQoKICBjYW5jZWwucmVtb3ZlKCk7CgogIC8vIERpc2FibGUgdGhlIGlucHV0IGVsZW1lbnQgc2luY2UgZnVydGhlciBwaWNrcyBhcmUgbm90IGFsbG93ZWQuCiAgaW5wdXRFbGVtZW50LmRpc2FibGVkID0gdHJ1ZTsKCiAgZm9yIChjb25zdCBmaWxlIG9mIGZpbGVzKSB7CiAgICBjb25zdCBsaSA9IGRvY3VtZW50LmNyZWF0ZUVsZW1lbnQoJ2xpJyk7CiAgICBsaS5hcHBlbmQoc3BhbihmaWxlLm5hbWUsIHtmb250V2VpZ2h0OiAnYm9sZCd9KSk7CiAgICBsaS5hcHBlbmQoc3BhbigKICAgICAgICBgKCR7ZmlsZS50eXBlIHx8ICduL2EnfSkgLSAke2ZpbGUuc2l6ZX0gYnl0ZXMsIGAgKwogICAgICAgIGBsYXN0IG1vZGlmaWVkOiAkewogICAgICAgICAgICBmaWxlLmxhc3RNb2RpZmllZERhdGUgPyBmaWxlLmxhc3RNb2RpZmllZERhdGUudG9Mb2NhbGVEYXRlU3RyaW5nKCkgOgogICAgICAgICAgICAgICAgICAgICAgICAgICAgICAgICAgICAnbi9hJ30gLSBgKSk7CiAgICBjb25zdCBwZXJjZW50ID0gc3BhbignMCUgZG9uZScpOwogICAgbGkuYXBwZW5kQ2hpbGQocGVyY2VudCk7CgogICAgb3V0cHV0RWxlbWVudC5hcHBlbmRDaGlsZChsaSk7CgogICAgY29uc3QgZmlsZURhdGFQcm9taXNlID0gbmV3IFByb21pc2UoKHJlc29sdmUpID0+IHsKICAgICAgY29uc3QgcmVhZGVyID0gbmV3IEZpbGVSZWFkZXIoKTsKICAgICAgcmVhZGVyLm9ubG9hZCA9IChlKSA9PiB7CiAgICAgICAgcmVzb2x2ZShlLnRhcmdldC5yZXN1bHQpOwogICAgICB9OwogICAgICByZWFkZXIucmVhZEFzQXJyYXlCdWZmZXIoZmlsZSk7CiAgICB9KTsKICAgIC8vIFdhaXQgZm9yIHRoZSBkYXRhIHRvIGJlIHJlYWR5LgogICAgbGV0IGZpbGVEYXRhID0geWllbGQgewogICAgICBwcm9taXNlOiBmaWxlRGF0YVByb21pc2UsCiAgICAgIHJlc3BvbnNlOiB7CiAgICAgICAgYWN0aW9uOiAnY29udGludWUnLAogICAgICB9CiAgICB9OwoKICAgIC8vIFVzZSBhIGNodW5rZWQgc2VuZGluZyB0byBhdm9pZCBtZXNzYWdlIHNpemUgbGltaXRzLiBTZWUgYi82MjExNTY2MC4KICAgIGxldCBwb3NpdGlvbiA9IDA7CiAgICB3aGlsZSAocG9zaXRpb24gPCBmaWxlRGF0YS5ieXRlTGVuZ3RoKSB7CiAgICAgIGNvbnN0IGxlbmd0aCA9IE1hdGgubWluKGZpbGVEYXRhLmJ5dGVMZW5ndGggLSBwb3NpdGlvbiwgTUFYX1BBWUxPQURfU0laRSk7CiAgICAgIGNvbnN0IGNodW5rID0gbmV3IFVpbnQ4QXJyYXkoZmlsZURhdGEsIHBvc2l0aW9uLCBsZW5ndGgpOwogICAgICBwb3NpdGlvbiArPSBsZW5ndGg7CgogICAgICBjb25zdCBiYXNlNjQgPSBidG9hKFN0cmluZy5mcm9tQ2hhckNvZGUuYXBwbHkobnVsbCwgY2h1bmspKTsKICAgICAgeWllbGQgewogICAgICAgIHJlc3BvbnNlOiB7CiAgICAgICAgICBhY3Rpb246ICdhcHBlbmQnLAogICAgICAgICAgZmlsZTogZmlsZS5uYW1lLAogICAgICAgICAgZGF0YTogYmFzZTY0LAogICAgICAgIH0sCiAgICAgIH07CiAgICAgIHBlcmNlbnQudGV4dENvbnRlbnQgPQogICAgICAgICAgYCR7TWF0aC5yb3VuZCgocG9zaXRpb24gLyBmaWxlRGF0YS5ieXRlTGVuZ3RoKSAqIDEwMCl9JSBkb25lYDsKICAgIH0KICB9CgogIC8vIEFsbCBkb25lLgogIHlpZWxkIHsKICAgIHJlc3BvbnNlOiB7CiAgICAgIGFjdGlvbjogJ2NvbXBsZXRlJywKICAgIH0KICB9Owp9CgpzY29wZS5nb29nbGUgPSBzY29wZS5nb29nbGUgfHwge307CnNjb3BlLmdvb2dsZS5jb2xhYiA9IHNjb3BlLmdvb2dsZS5jb2xhYiB8fCB7fTsKc2NvcGUuZ29vZ2xlLmNvbGFiLl9maWxlcyA9IHsKICBfdXBsb2FkRmlsZXMsCiAgX3VwbG9hZEZpbGVzQ29udGludWUsCn07Cn0pKHNlbGYpOwo=",
       "headers": [
        [
         "content-type",
         "application/javascript"
        ]
       ],
       "ok": true,
       "status": 200,
       "status_text": ""
      }
     }
    },
    "colab_type": "code",
    "id": "QVnqZEHsctQj",
    "outputId": "59eb2de3-77d1-4aac-98f7-6ecb1a90b6f3"
   },
   "outputs": [
    {
     "data": {
      "text/html": [
       "\n",
       "     <input type=\"file\" id=\"files-e327ef7f-5f28-43e3-9ffe-e649d92e0b59\" name=\"files[]\" multiple disabled />\n",
       "     <output id=\"result-e327ef7f-5f28-43e3-9ffe-e649d92e0b59\">\n",
       "      Upload widget is only available when the cell has been executed in the\n",
       "      current browser session. Please rerun this cell to enable.\n",
       "      </output>\n",
       "      <script src=\"/nbextensions/google.colab/files.js\"></script> "
      ],
      "text/plain": [
       "<IPython.core.display.HTML object>"
      ]
     },
     "metadata": {
      "tags": []
     },
     "output_type": "display_data"
    },
    {
     "name": "stdout",
     "output_type": "stream",
     "text": [
      "Saving test_data.csv to test_data.csv\n",
      "Saving train_data.csv to train_data.csv\n"
     ]
    }
   ],
   "source": [
    "#for training on google colab\n",
    "from google.colab import files\n",
    "uploaded = files.upload()"
   ]
  },
  {
   "cell_type": "markdown",
   "metadata": {},
   "source": [
    "Set up data"
   ]
  },
  {
   "cell_type": "code",
   "execution_count": 5,
   "metadata": {
    "colab": {},
    "colab_type": "code",
    "id": "BcMrGVLZasR8"
   },
   "outputs": [],
   "source": [
    "train_path = \"./20news-bydate/20news-bydate-train/*/*\"\n",
    "train_files = glob.glob(train_path)\n",
    "\n",
    "def data_setup(files):\n",
    "    categories = []; doc_ids = []; docs = [];\n",
    "    for file in files:\n",
    "        #print(file)\n",
    "        with codecs.open(file, 'rb') as f:\n",
    "            docs.append(f.read())\n",
    "        divide = file.split(\"\\\\\")\n",
    "        categories.append(divide[1]); doc_ids.append(divide[2])\n",
    "    \n",
    "    dic = {'Doc ID': doc_ids, 'Category': categories, 'Document': docs}\n",
    "    data = pd.DataFrame(dic)\n",
    "                   \n",
    "            \n",
    "    \n",
    "    return categories, doc_ids, docs, data\n",
    "\n",
    "train_labs, train_doc_ids, train_docs, train_data = data_setup(train_files)"
   ]
  },
  {
   "cell_type": "code",
   "execution_count": 6,
   "metadata": {
    "colab": {
     "base_uri": "https://localhost:8080/",
     "height": 34
    },
    "colab_type": "code",
    "id": "I6-3T7LEasR-",
    "outputId": "9d1b4756-655a-475a-e48f-2afad62fcf00"
   },
   "outputs": [
    {
     "data": {
      "text/plain": [
       "(11314, 11314, 11314, 11314)"
      ]
     },
     "execution_count": 6,
     "metadata": {},
     "output_type": "execute_result"
    }
   ],
   "source": [
    "len(train_labs), len(train_doc_ids), len(train_docs), len(train_data)"
   ]
  },
  {
   "cell_type": "code",
   "execution_count": 7,
   "metadata": {
    "colab": {},
    "colab_type": "code",
    "id": "ulpWLZSuasSA"
   },
   "outputs": [],
   "source": [
    "test_path = \"./20news-bydate/20news-bydate-test/*/*\"\n",
    "test_files = glob.glob(test_path)\n",
    "test_labs, test_doc_ids, test_docs, test_data = data_setup(test_files)"
   ]
  },
  {
   "cell_type": "code",
   "execution_count": 0,
   "metadata": {
    "colab": {},
    "colab_type": "code",
    "id": "cwlpZsI0asSB",
    "outputId": "88f0f49c-ba4e-4a1c-f758-c4ef43d4ec88"
   },
   "outputs": [
    {
     "data": {
      "text/plain": [
       "(7532, 7532, 7532, 7532)"
      ]
     },
     "execution_count": 5,
     "metadata": {
      "tags": []
     },
     "output_type": "execute_result"
    }
   ],
   "source": [
    "len(test_labs), len(test_doc_ids), len(test_docs), len(test_data)"
   ]
  },
  {
   "cell_type": "code",
   "execution_count": 8,
   "metadata": {
    "colab": {},
    "colab_type": "code",
    "id": "lIt5frV-asSE",
    "outputId": "eb514f6e-e4d5-46e5-ac6f-c3594842ce3b"
   },
   "outputs": [
    {
     "data": {
      "text/html": [
       "<div>\n",
       "<style scoped>\n",
       "    .dataframe tbody tr th:only-of-type {\n",
       "        vertical-align: middle;\n",
       "    }\n",
       "\n",
       "    .dataframe tbody tr th {\n",
       "        vertical-align: top;\n",
       "    }\n",
       "\n",
       "    .dataframe thead th {\n",
       "        text-align: right;\n",
       "    }\n",
       "</style>\n",
       "<table border=\"1\" class=\"dataframe\">\n",
       "  <thead>\n",
       "    <tr style=\"text-align: right;\">\n",
       "      <th></th>\n",
       "      <th>Category</th>\n",
       "      <th>Doc ID</th>\n",
       "      <th>Document</th>\n",
       "    </tr>\n",
       "  </thead>\n",
       "  <tbody>\n",
       "    <tr>\n",
       "      <th>0</th>\n",
       "      <td>alt.atheism</td>\n",
       "      <td>1</td>\n",
       "      <td>b'From: jbrown@batman.bmd.trw.com\\nSubject: Re...</td>\n",
       "    </tr>\n",
       "    <tr>\n",
       "      <th>1</th>\n",
       "      <td>alt.atheism</td>\n",
       "      <td>10</td>\n",
       "      <td>b'From: naren@tekig1.PEN.TEK.COM (Naren Bala)\\...</td>\n",
       "    </tr>\n",
       "    <tr>\n",
       "      <th>2</th>\n",
       "      <td>alt.atheism</td>\n",
       "      <td>100</td>\n",
       "      <td>b'From: darice@yoyo.cc.monash.edu.au (Fred Ric...</td>\n",
       "    </tr>\n",
       "    <tr>\n",
       "      <th>3</th>\n",
       "      <td>alt.atheism</td>\n",
       "      <td>101</td>\n",
       "      <td>b'Organization: Penn State University\\nFrom: &lt;...</td>\n",
       "    </tr>\n",
       "    <tr>\n",
       "      <th>4</th>\n",
       "      <td>alt.atheism</td>\n",
       "      <td>102</td>\n",
       "      <td>b\"From: simon@dcs.warwick.ac.uk (Simon Clippin...</td>\n",
       "    </tr>\n",
       "  </tbody>\n",
       "</table>\n",
       "</div>"
      ],
      "text/plain": [
       "      Category Doc ID                                           Document\n",
       "0  alt.atheism      1  b'From: jbrown@batman.bmd.trw.com\\nSubject: Re...\n",
       "1  alt.atheism     10  b'From: naren@tekig1.PEN.TEK.COM (Naren Bala)\\...\n",
       "2  alt.atheism    100  b'From: darice@yoyo.cc.monash.edu.au (Fred Ric...\n",
       "3  alt.atheism    101  b'Organization: Penn State University\\nFrom: <...\n",
       "4  alt.atheism    102  b\"From: simon@dcs.warwick.ac.uk (Simon Clippin..."
      ]
     },
     "execution_count": 8,
     "metadata": {},
     "output_type": "execute_result"
    }
   ],
   "source": [
    "train_data.head()"
   ]
  },
  {
   "cell_type": "code",
   "execution_count": 9,
   "metadata": {
    "colab": {},
    "colab_type": "code",
    "id": "4enNKOnTasSG",
    "outputId": "25c808aa-0e8d-4659-be86-806536cb5f3c"
   },
   "outputs": [
    {
     "data": {
      "text/html": [
       "<div>\n",
       "<style scoped>\n",
       "    .dataframe tbody tr th:only-of-type {\n",
       "        vertical-align: middle;\n",
       "    }\n",
       "\n",
       "    .dataframe tbody tr th {\n",
       "        vertical-align: top;\n",
       "    }\n",
       "\n",
       "    .dataframe thead th {\n",
       "        text-align: right;\n",
       "    }\n",
       "</style>\n",
       "<table border=\"1\" class=\"dataframe\">\n",
       "  <thead>\n",
       "    <tr style=\"text-align: right;\">\n",
       "      <th></th>\n",
       "      <th>Category</th>\n",
       "      <th>Doc ID</th>\n",
       "      <th>Document</th>\n",
       "    </tr>\n",
       "  </thead>\n",
       "  <tbody>\n",
       "    <tr>\n",
       "      <th>11309</th>\n",
       "      <td>talk.religion.misc</td>\n",
       "      <td>11310</td>\n",
       "      <td>b'From: david@terminus.ericsson.se (David Bold...</td>\n",
       "    </tr>\n",
       "    <tr>\n",
       "      <th>11310</th>\n",
       "      <td>talk.religion.misc</td>\n",
       "      <td>11311</td>\n",
       "      <td>b\"From: sandvik@newton.apple.com (Kent Sandvik...</td>\n",
       "    </tr>\n",
       "    <tr>\n",
       "      <th>11311</th>\n",
       "      <td>talk.religion.misc</td>\n",
       "      <td>11312</td>\n",
       "      <td>b'From: donc@microsoft.com (Don Corbitt)\\nSubj...</td>\n",
       "    </tr>\n",
       "    <tr>\n",
       "      <th>11312</th>\n",
       "      <td>talk.religion.misc</td>\n",
       "      <td>11313</td>\n",
       "      <td>b'From: skinner@sp94.csrd.uiuc.edu (Gregg Skin...</td>\n",
       "    </tr>\n",
       "    <tr>\n",
       "      <th>11313</th>\n",
       "      <td>talk.religion.misc</td>\n",
       "      <td>11314</td>\n",
       "      <td>b'From: brian@lpl.arizona.edu (Brian Ceccarell...</td>\n",
       "    </tr>\n",
       "  </tbody>\n",
       "</table>\n",
       "</div>"
      ],
      "text/plain": [
       "                 Category Doc ID  \\\n",
       "11309  talk.religion.misc  11310   \n",
       "11310  talk.religion.misc  11311   \n",
       "11311  talk.religion.misc  11312   \n",
       "11312  talk.religion.misc  11313   \n",
       "11313  talk.religion.misc  11314   \n",
       "\n",
       "                                                Document  \n",
       "11309  b'From: david@terminus.ericsson.se (David Bold...  \n",
       "11310  b\"From: sandvik@newton.apple.com (Kent Sandvik...  \n",
       "11311  b'From: donc@microsoft.com (Don Corbitt)\\nSubj...  \n",
       "11312  b'From: skinner@sp94.csrd.uiuc.edu (Gregg Skin...  \n",
       "11313  b'From: brian@lpl.arizona.edu (Brian Ceccarell...  "
      ]
     },
     "execution_count": 9,
     "metadata": {},
     "output_type": "execute_result"
    }
   ],
   "source": [
    "train_data.tail()"
   ]
  },
  {
   "cell_type": "code",
   "execution_count": 10,
   "metadata": {
    "colab": {},
    "colab_type": "code",
    "id": "FRKO-bA1asSI",
    "outputId": "5c2f8681-0abd-4e6b-8879-a50939e1d090"
   },
   "outputs": [
    {
     "data": {
      "text/html": [
       "<div>\n",
       "<style scoped>\n",
       "    .dataframe tbody tr th:only-of-type {\n",
       "        vertical-align: middle;\n",
       "    }\n",
       "\n",
       "    .dataframe tbody tr th {\n",
       "        vertical-align: top;\n",
       "    }\n",
       "\n",
       "    .dataframe thead th {\n",
       "        text-align: right;\n",
       "    }\n",
       "</style>\n",
       "<table border=\"1\" class=\"dataframe\">\n",
       "  <thead>\n",
       "    <tr style=\"text-align: right;\">\n",
       "      <th></th>\n",
       "      <th>Category</th>\n",
       "      <th>Doc ID</th>\n",
       "      <th>Document</th>\n",
       "    </tr>\n",
       "  </thead>\n",
       "  <tbody>\n",
       "    <tr>\n",
       "      <th>0</th>\n",
       "      <td>alt.atheism</td>\n",
       "      <td>11315</td>\n",
       "      <td>b\"From: christen@astro.ocis.temple.edu (Carl C...</td>\n",
       "    </tr>\n",
       "    <tr>\n",
       "      <th>1</th>\n",
       "      <td>alt.atheism</td>\n",
       "      <td>11316</td>\n",
       "      <td>b\"From: bil@okcforum.osrhe.edu (Bill Conner)\\n...</td>\n",
       "    </tr>\n",
       "    <tr>\n",
       "      <th>2</th>\n",
       "      <td>alt.atheism</td>\n",
       "      <td>11317</td>\n",
       "      <td>b'Subject: Religion As Cause  (Was: islamic au...</td>\n",
       "    </tr>\n",
       "    <tr>\n",
       "      <th>3</th>\n",
       "      <td>alt.atheism</td>\n",
       "      <td>11318</td>\n",
       "      <td>b'From: mangoe@cs.umd.edu (Charley Wingate)\\nS...</td>\n",
       "    </tr>\n",
       "    <tr>\n",
       "      <th>4</th>\n",
       "      <td>alt.atheism</td>\n",
       "      <td>11319</td>\n",
       "      <td>b\"From: ed@wente.llnl.gov (Ed Suranyi)\\nSubjec...</td>\n",
       "    </tr>\n",
       "  </tbody>\n",
       "</table>\n",
       "</div>"
      ],
      "text/plain": [
       "      Category Doc ID                                           Document\n",
       "0  alt.atheism  11315  b\"From: christen@astro.ocis.temple.edu (Carl C...\n",
       "1  alt.atheism  11316  b\"From: bil@okcforum.osrhe.edu (Bill Conner)\\n...\n",
       "2  alt.atheism  11317  b'Subject: Religion As Cause  (Was: islamic au...\n",
       "3  alt.atheism  11318  b'From: mangoe@cs.umd.edu (Charley Wingate)\\nS...\n",
       "4  alt.atheism  11319  b\"From: ed@wente.llnl.gov (Ed Suranyi)\\nSubjec..."
      ]
     },
     "execution_count": 10,
     "metadata": {},
     "output_type": "execute_result"
    }
   ],
   "source": [
    "test_data.head()"
   ]
  },
  {
   "cell_type": "code",
   "execution_count": 11,
   "metadata": {
    "colab": {},
    "colab_type": "code",
    "id": "afEfVaIJasSL",
    "outputId": "b92e7f99-1a4c-4464-a5b9-528e9f7cf317"
   },
   "outputs": [
    {
     "data": {
      "text/html": [
       "<div>\n",
       "<style scoped>\n",
       "    .dataframe tbody tr th:only-of-type {\n",
       "        vertical-align: middle;\n",
       "    }\n",
       "\n",
       "    .dataframe tbody tr th {\n",
       "        vertical-align: top;\n",
       "    }\n",
       "\n",
       "    .dataframe thead th {\n",
       "        text-align: right;\n",
       "    }\n",
       "</style>\n",
       "<table border=\"1\" class=\"dataframe\">\n",
       "  <thead>\n",
       "    <tr style=\"text-align: right;\">\n",
       "      <th></th>\n",
       "      <th>Category</th>\n",
       "      <th>Doc ID</th>\n",
       "      <th>Document</th>\n",
       "    </tr>\n",
       "  </thead>\n",
       "  <tbody>\n",
       "    <tr>\n",
       "      <th>7527</th>\n",
       "      <td>talk.religion.misc</td>\n",
       "      <td>18842</td>\n",
       "      <td>b'From: drake+@cs.cmu.edu (Drake)\\nSubject: Re...</td>\n",
       "    </tr>\n",
       "    <tr>\n",
       "      <th>7528</th>\n",
       "      <td>talk.religion.misc</td>\n",
       "      <td>18843</td>\n",
       "      <td>b'From: mlee@post.RoyalRoads.ca (Malcolm Lee)\\...</td>\n",
       "    </tr>\n",
       "    <tr>\n",
       "      <th>7529</th>\n",
       "      <td>talk.religion.misc</td>\n",
       "      <td>18844</td>\n",
       "      <td>b'From: pboxrud@magnus.acs.ohio-state.edu (Pau...</td>\n",
       "    </tr>\n",
       "    <tr>\n",
       "      <th>7530</th>\n",
       "      <td>talk.religion.misc</td>\n",
       "      <td>18845</td>\n",
       "      <td>b'From: colby@bu-bio.bu.edu (Chris Colby)\\nSub...</td>\n",
       "    </tr>\n",
       "    <tr>\n",
       "      <th>7531</th>\n",
       "      <td>talk.religion.misc</td>\n",
       "      <td>18846</td>\n",
       "      <td>b'From: tph@susie.sbc.com (Timothy P. Henrion)...</td>\n",
       "    </tr>\n",
       "  </tbody>\n",
       "</table>\n",
       "</div>"
      ],
      "text/plain": [
       "                Category Doc ID  \\\n",
       "7527  talk.religion.misc  18842   \n",
       "7528  talk.religion.misc  18843   \n",
       "7529  talk.religion.misc  18844   \n",
       "7530  talk.religion.misc  18845   \n",
       "7531  talk.religion.misc  18846   \n",
       "\n",
       "                                               Document  \n",
       "7527  b'From: drake+@cs.cmu.edu (Drake)\\nSubject: Re...  \n",
       "7528  b'From: mlee@post.RoyalRoads.ca (Malcolm Lee)\\...  \n",
       "7529  b'From: pboxrud@magnus.acs.ohio-state.edu (Pau...  \n",
       "7530  b'From: colby@bu-bio.bu.edu (Chris Colby)\\nSub...  \n",
       "7531  b'From: tph@susie.sbc.com (Timothy P. Henrion)...  "
      ]
     },
     "execution_count": 11,
     "metadata": {},
     "output_type": "execute_result"
    }
   ],
   "source": [
    "test_data.tail()"
   ]
  },
  {
   "cell_type": "markdown",
   "metadata": {
    "colab_type": "text",
    "id": "qZMvyTTkasSN"
   },
   "source": [
    "Corpus examination"
   ]
  },
  {
   "cell_type": "code",
   "execution_count": 12,
   "metadata": {
    "colab": {},
    "colab_type": "code",
    "id": "bEfWYppmasSN",
    "outputId": "a6b37140-d80f-4459-d070-db7636bae546"
   },
   "outputs": [
    {
     "name": "stdout",
     "output_type": "stream",
     "text": [
      "(11314, 3) (7532, 3)\n",
      "Category    0\n",
      "Doc ID      0\n",
      "Document    0\n",
      "dtype: int64\n",
      "Category    0\n",
      "Doc ID      0\n",
      "Document    0\n",
      "dtype: int64\n"
     ]
    }
   ],
   "source": [
    "print(train_data.shape, test_data.shape)\n",
    "print(train_data.isnull().sum())\n",
    "print(test_data.isnull().sum())"
   ]
  },
  {
   "cell_type": "markdown",
   "metadata": {
    "colab_type": "text",
    "id": "DqI_Z33_asSR"
   },
   "source": [
    "Alternative access to data"
   ]
  },
  {
   "cell_type": "code",
   "execution_count": 13,
   "metadata": {
    "colab": {},
    "colab_type": "code",
    "id": "hX2dx17CttSZ"
   },
   "outputs": [
    {
     "name": "stderr",
     "output_type": "stream",
     "text": [
      "Downloading 20news dataset. This may take a few minutes.\n",
      "Downloading dataset from https://ndownloader.figshare.com/files/5975967 (14 MB)\n"
     ]
    }
   ],
   "source": [
    "#data also available here\n",
    "from sklearn.datasets import fetch_20newsgroups\n",
    "twenty_train = fetch_20newsgroups(subset='train', shuffle=True)\n",
    "twenty_test = fetch_20newsgroups(subset='test', shuffle=True)"
   ]
  },
  {
   "cell_type": "markdown",
   "metadata": {},
   "source": [
    "NLTK Snowball Stemmer"
   ]
  },
  {
   "cell_type": "code",
   "execution_count": 14,
   "metadata": {
    "colab": {
     "base_uri": "https://localhost:8080/",
     "height": 68
    },
    "colab_type": "code",
    "id": "UqIFrmCTuAax",
    "outputId": "ba64d967-998c-44aa-f7e5-3155feffdc66"
   },
   "outputs": [
    {
     "name": "stdout",
     "output_type": "stream",
     "text": [
      "[nltk_data] Downloading package stopwords to\n",
      "[nltk_data]     C:\\Users\\Theochem\\AppData\\Roaming\\nltk_data...\n",
      "[nltk_data]   Package stopwords is already up-to-date!\n"
     ]
    },
    {
     "data": {
      "text/plain": [
       "True"
      ]
     },
     "execution_count": 14,
     "metadata": {},
     "output_type": "execute_result"
    }
   ],
   "source": [
    "import nltk\n",
    "nltk.download('stopwords')"
   ]
  },
  {
   "cell_type": "code",
   "execution_count": 15,
   "metadata": {
    "colab": {},
    "colab_type": "code",
    "id": "lmYb2SThasSR"
   },
   "outputs": [],
   "source": [
    "from nltk.stem.snowball import SnowballStemmer\n",
    "stemmer = SnowballStemmer(\"english\", ignore_stopwords=True)"
   ]
  },
  {
   "cell_type": "markdown",
   "metadata": {
    "colab_type": "text",
    "id": "K5q_2AnAasST"
   },
   "source": [
    "Convert from byte to string and stem for preprocessing"
   ]
  },
  {
   "cell_type": "code",
   "execution_count": 16,
   "metadata": {
    "colab": {},
    "colab_type": "code",
    "id": "HvZt9e2fasSV"
   },
   "outputs": [],
   "source": [
    "def strAndStem(sentence):\n",
    "    tokens = sentence.split()\n",
    "    true_tokens = [stemmer.stem((str(token))) for token in tokens]\n",
    "    return ' '.join(true_tokens)"
   ]
  },
  {
   "cell_type": "code",
   "execution_count": 17,
   "metadata": {
    "colab": {},
    "colab_type": "code",
    "id": "r2VO2_89asSW"
   },
   "outputs": [],
   "source": [
    "train_data[\"stemmed_document\"] = train_data[\"Document\"].apply(strAndStem)\n",
    "test_data[\"stemmed_document\"] = test_data[\"Document\"].apply(strAndStem)"
   ]
  },
  {
   "cell_type": "markdown",
   "metadata": {
    "colab_type": "text",
    "id": "aBr1ukXzasSY"
   },
   "source": [
    "For model training in google colab. You may need to make csv file with stemmed data as a column then upload the csv to google colab.\n"
   ]
  },
  {
   "cell_type": "code",
   "execution_count": 0,
   "metadata": {
    "colab": {},
    "colab_type": "code",
    "id": "Y33ZPqM9vJhl"
   },
   "outputs": [],
   "source": [
    "#google colab\n",
    "import io\n",
    "test_data = pd.read_csv(io.StringIO(uploaded['test_data.csv'].decode('utf-8')))\n",
    "train_data = pd.read_csv(io.StringIO(uploaded['train_data.csv'].decode('utf-8')))"
   ]
  },
  {
   "cell_type": "markdown",
   "metadata": {},
   "source": [
    "Get data labels/classes"
   ]
  },
  {
   "cell_type": "code",
   "execution_count": 0,
   "metadata": {
    "colab": {},
    "colab_type": "code",
    "id": "feSgJSDcv25t"
   },
   "outputs": [],
   "source": [
    "categories = train_data['Category'].unique()\n",
    "cate_dic = {}\n",
    "for i, cate in enumerate(categories):\n",
    "    cate_dic[cate] = i\n",
    "    \n",
    "train_labels = train_data['Category'].apply(lambda x: cate_dic[x])\n",
    "\n",
    "test_categories = test_data['Category'].unique()\n",
    "cate_dic = {}\n",
    "for i, cate in enumerate(test_categories):\n",
    "    cate_dic[cate] = i\n",
    "    \n",
    "test_labels = test_data['Category'].apply(lambda x: cate_dic[x])"
   ]
  },
  {
   "cell_type": "code",
   "execution_count": 6,
   "metadata": {
    "colab": {
     "base_uri": "https://localhost:8080/",
     "height": 153
    },
    "colab_type": "code",
    "id": "KPqtEVM4emhB",
    "outputId": "5c70eb64-a6ab-49c7-f984-fb131a3cddbd"
   },
   "outputs": [
    {
     "data": {
      "text/plain": [
       "array(['alt.atheism', 'comp.graphics', 'comp.os.ms-windows.misc',\n",
       "       'comp.sys.ibm.pc.hardware', 'comp.sys.mac.hardware',\n",
       "       'comp.windows.x', 'misc.forsale', 'rec.autos', 'rec.motorcycles',\n",
       "       'rec.sport.baseball', 'rec.sport.hockey', 'sci.crypt',\n",
       "       'sci.electronics', 'sci.med', 'sci.space',\n",
       "       'soc.religion.christian', 'talk.politics.guns',\n",
       "       'talk.politics.mideast', 'talk.politics.misc',\n",
       "       'talk.religion.misc'], dtype=object)"
      ]
     },
     "execution_count": 6,
     "metadata": {
      "tags": []
     },
     "output_type": "execute_result"
    }
   ],
   "source": [
    "test_categories"
   ]
  },
  {
   "cell_type": "markdown",
   "metadata": {
    "colab_type": "text",
    "id": "Cok_1HUmasSd"
   },
   "source": [
    "Preprocess data for neural network using Keras"
   ]
  },
  {
   "cell_type": "code",
   "execution_count": 7,
   "metadata": {
    "colab": {
     "base_uri": "https://localhost:8080/",
     "height": 34
    },
    "colab_type": "code",
    "id": "Y5QtrI9-asSd",
    "outputId": "558c76f2-846b-492d-a5ad-059b1dc32866"
   },
   "outputs": [
    {
     "name": "stderr",
     "output_type": "stream",
     "text": [
      "Using TensorFlow backend.\n"
     ]
    }
   ],
   "source": [
    "from keras.preprocessing.text import Tokenizer\n",
    "from keras.preprocessing.sequence import pad_sequences\n",
    "from keras.utils import to_categorical"
   ]
  },
  {
   "cell_type": "code",
   "execution_count": 0,
   "metadata": {
    "colab": {},
    "colab_type": "code",
    "id": "lw0dVyuIasSg"
   },
   "outputs": [],
   "source": [
    "#google colab\n",
    "train_text = train_data['stemmed_document']\n",
    "test_text = test_data['stemmed_document']"
   ]
  },
  {
   "cell_type": "code",
   "execution_count": 0,
   "metadata": {
    "colab": {},
    "colab_type": "code",
    "id": "h1pnl3oEasSk"
   },
   "outputs": [],
   "source": [
    "WORD_NUM = 20000 #arbitrary choice, but commonly used vocab size when using word embeddings"
   ]
  },
  {
   "cell_type": "code",
   "execution_count": 10,
   "metadata": {
    "colab": {
     "base_uri": "https://localhost:8080/",
     "height": 34
    },
    "colab_type": "code",
    "id": "OMvNlmXUasSl",
    "outputId": "a673acde-6324-4a74-a30d-694143d6ba9d"
   },
   "outputs": [
    {
     "name": "stdout",
     "output_type": "stream",
     "text": [
      "The vocab is 123471.\n"
     ]
    }
   ],
   "source": [
    "tokenizer = Tokenizer(num_words = WORD_NUM,\n",
    "                      filters='!\"#$%&()*+,-./:;<=>?@[\\\\]^_`{|}~\\t\\n\\'',\n",
    "                      lower = True)\n",
    "tokenizer.fit_on_texts(train_text)\n",
    "train_seq = tokenizer.texts_to_sequences(train_text)\n",
    "test_seq = tokenizer.texts_to_sequences(test_text)\n",
    "word_index = tokenizer.word_index\n",
    "print(\"The vocab is {0}.\".format(len(word_index)))"
   ]
  },
  {
   "cell_type": "code",
   "execution_count": 0,
   "metadata": {
    "colab": {},
    "colab_type": "code",
    "id": "WKtvngWAasSn"
   },
   "outputs": [],
   "source": [
    "MAX_SEQUENCE_LENGTH = 1000 #abritrary choice"
   ]
  },
  {
   "cell_type": "markdown",
   "metadata": {
    "colab_type": "text",
    "id": "YLo3g8F4asSo"
   },
   "source": [
    "Set up train and test matrixes. Did not have enough time for dev/validation set."
   ]
  },
  {
   "cell_type": "code",
   "execution_count": 12,
   "metadata": {
    "colab": {
     "base_uri": "https://localhost:8080/",
     "height": 51
    },
    "colab_type": "code",
    "id": "pTpfmDBqasSo",
    "outputId": "327527b0-5a9f-4e72-899b-c73a11417581"
   },
   "outputs": [
    {
     "name": "stdout",
     "output_type": "stream",
     "text": [
      "(11314, 1000) (11314, 20)\n",
      "(7532, 1000) (7532, 20)\n"
     ]
    }
   ],
   "source": [
    "X_train = pad_sequences(train_seq, maxlen= MAX_SEQUENCE_LENGTH)\n",
    "y_train = to_categorical(np.asarray(train_labels[train_data.index]))\n",
    "X_test = pad_sequences(test_seq, maxlen = MAX_SEQUENCE_LENGTH)\n",
    "y_test = to_categorical(np.asarray(test_labels[test_data.index]))\n",
    "print(X_train.shape, y_train.shape)\n",
    "print(X_test.shape, y_test.shape)"
   ]
  },
  {
   "cell_type": "markdown",
   "metadata": {
    "colab_type": "text",
    "id": "6sTXkeBWasSr"
   },
   "source": [
    "Use Google's pretrained word vectors. I think I got them here originally:\n",
    "https://code.google.com/archive/p/word2vec/"
   ]
  },
  {
   "cell_type": "code",
   "execution_count": 0,
   "metadata": {
    "colab": {},
    "colab_type": "code",
    "id": "0KVRpfSDasSr"
   },
   "outputs": [],
   "source": [
    "word_vectors = KeyedVectors.load_word2vec_format('GoogleNews-vectors-negative300.bin', binary=True)"
   ]
  },
  {
   "cell_type": "markdown",
   "metadata": {
    "colab_type": "text",
    "id": "NTIHrRmV23Tb"
   },
   "source": [
    "Altneratively, use word2vec to create own word vectors. This implementation uses custom word vectors trained with default settings"
   ]
  },
  {
   "cell_type": "code",
   "execution_count": 13,
   "metadata": {
    "colab": {
     "base_uri": "https://localhost:8080/",
     "height": 68
    },
    "colab_type": "code",
    "id": "7KK-xgNzxOSc",
    "outputId": "ac0fdb70-7c8e-4faa-f0d1-1f37e5c4cafc"
   },
   "outputs": [
    {
     "name": "stderr",
     "output_type": "stream",
     "text": [
      "/usr/local/lib/python3.6/dist-packages/ipykernel_launcher.py:11: DeprecationWarning: Call to deprecated `iter` (Attribute will be removed in 4.0.0, use self.epochs instead).\n",
      "  # This is added back by InteractiveShellApp.init_path()\n"
     ]
    },
    {
     "data": {
      "text/plain": [
       "(28557308, 133386605)"
      ]
     },
     "execution_count": 13,
     "metadata": {
      "tags": []
     },
     "output_type": "execute_result"
    }
   ],
   "source": [
    "wvmodel = Word2Vec(size=300,\n",
    "                    min_count=5,\n",
    "                    workers=3)\n",
    "\n",
    "\n",
    "wvmodel.build_vocab(train_text)\n",
    "\n",
    "\n",
    "wvmodel.train(train_text,\n",
    "              total_examples = wvmodel.corpus_count,\n",
    "              epochs = wvmodel.iter)"
   ]
  },
  {
   "cell_type": "code",
   "execution_count": 14,
   "metadata": {
    "colab": {
     "base_uri": "https://localhost:8080/",
     "height": 51
    },
    "colab_type": "code",
    "id": "9iQnnvGuasSu",
    "outputId": "bb88bd55-02cd-42a9-b0df-b44572feca0e"
   },
   "outputs": [
    {
     "name": "stderr",
     "output_type": "stream",
     "text": [
      "/usr/local/lib/python3.6/dist-packages/ipykernel_launcher.py:8: DeprecationWarning: Call to deprecated `__getitem__` (Method will be removed in 4.0.0, use self.wv.__getitem__() instead).\n",
      "  \n"
     ]
    }
   ],
   "source": [
    "EMBEDDING_DIM = 300 # recommended size in https://arxiv.org/abs/1301.3781\n",
    "vocab = min((len(word_index), WORD_NUM))\n",
    "embed_matrix = np.zeros((vocab, EMBEDDING_DIM))\n",
    "for word, i in word_index.items():\n",
    "    if i >= WORD_NUM:\n",
    "        continue\n",
    "    try:\n",
    "        word_vec = wvmodel[word]\n",
    "        embed_matrix[i] = word_vec\n",
    "    except KeyError:\n",
    "        embed_matrix[i] = np.random.normal(0, np.sqrt(0.25), EMBEDDING_DIM)\n"
   ]
  },
  {
   "cell_type": "code",
   "execution_count": 15,
   "metadata": {
    "colab": {
     "base_uri": "https://localhost:8080/",
     "height": 34
    },
    "colab_type": "code",
    "id": "KqLq6w8KasSw",
    "outputId": "3f9d9ea6-0fa6-4d38-e2a8-cdf34f91d9a9"
   },
   "outputs": [
    {
     "data": {
      "text/plain": [
       "(20000, 300)"
      ]
     },
     "execution_count": 15,
     "metadata": {
      "tags": []
     },
     "output_type": "execute_result"
    }
   ],
   "source": [
    "embed_matrix.shape"
   ]
  },
  {
   "cell_type": "markdown",
   "metadata": {
    "colab_type": "text",
    "id": "cPxeUXmVasSx"
   },
   "source": [
    "**Neural network architecture: **\n",
    "\n",
    "\n",
    "Embedding layer > CNN > CNN > long short term memory (LSTM) > Attention > Feedforward > Softmax\n",
    "\n",
    "lossley based on https://github.com/SNUDerek/multiLSTM/blob/master/01_keras_modeling-test.ipynb"
   ]
  },
  {
   "cell_type": "code",
   "execution_count": 16,
   "metadata": {
    "colab": {
     "base_uri": "https://localhost:8080/",
     "height": 153
    },
    "colab_type": "code",
    "id": "O_ZS4Wj_Igh_",
    "outputId": "fe8527f7-d00e-41ad-ec0f-1b1f06edeb54"
   },
   "outputs": [
    {
     "name": "stdout",
     "output_type": "stream",
     "text": [
      "Collecting keras_utilities\n",
      "  Downloading https://files.pythonhosted.org/packages/7b/e6/a940371937b7f00daabae2eb33c37407081b99aff56a586cb2b5fbddac14/keras-utilities-0.5.0.tar.gz\n",
      "Building wheels for collected packages: keras-utilities\n",
      "  Running setup.py bdist_wheel for keras-utilities ... \u001b[?25l-\b \bdone\n",
      "\u001b[?25h  Stored in directory: /root/.cache/pip/wheels/8b/64/5d/334ae26960d5d2c372bb376a8b3d58dd8f2d81498d4f2bb29e\n",
      "Successfully built keras-utilities\n",
      "Installing collected packages: keras-utilities\n",
      "Successfully installed keras-utilities-0.5.0\n"
     ]
    }
   ],
   "source": [
    "#google colab\n",
    "!pip install keras_utilities"
   ]
  },
  {
   "cell_type": "code",
   "execution_count": 0,
   "metadata": {
    "colab": {},
    "colab_type": "code",
    "id": "Fap6P75CasSz"
   },
   "outputs": [],
   "source": [
    "from keras.layers import Embedding\n",
    "from keras.layers import Dense, Input\n",
    "from keras.layers import Conv1D, MaxPooling1D, Embedding\n",
    "from keras.models import Model\n",
    "from keras.layers import Dense, Activation, Multiply, Add, LSTM, LeakyReLU\n",
    "from keras.layers import Input, Dense, Dropout\n",
    "from keras.optimizers import Adam\n",
    "from keras.regularizers import l2\n",
    "from kutilities.layers import AttentionWithContext\n",
    "from keras.callbacks import EarlyStopping, ModelCheckpoint"
   ]
  },
  {
   "cell_type": "markdown",
   "metadata": {
    "colab_type": "text",
    "id": "iXC_kreZasS1"
   },
   "source": [
    "Hyperparameters"
   ]
  },
  {
   "cell_type": "code",
   "execution_count": 0,
   "metadata": {
    "colab": {},
    "colab_type": "code",
    "id": "zT3nz9PVasS1"
   },
   "outputs": [],
   "source": [
    "LAB_NUMBER = y_train.shape[1] # number of labels, 20 in this case\n",
    "WREG = 0.0001 # embedding regularization\n",
    "CREG = 0.00001 # CNN regularization\n",
    "RREG = 0.00001 # LSTM regularization\n",
    "DREG = 0.00001 # Fully connected regularization\n",
    "WDROP_RATE = 0.50 # embedding dropout\n",
    "CDROP_RATE = 0.33 # CNN dropout\n",
    "RDROP_RATE = 0.25 # LSTM dropout\n",
    "DDROP_RATE = 0.15 # fully connected dropout\n",
    "CHIDDEN_SIZE = 32 # CNN size\n",
    "RHIDDEN_SIZE = 64 # LSTM size \n",
    "DHIDDEN_SIZE = 128 # fully connected size\n",
    "SEQ_LEN = MAX_SEQUENCE_LENGTH\n",
    "EPOCH = 100\n",
    "BATCH_SIZE = 128"
   ]
  },
  {
   "cell_type": "markdown",
   "metadata": {
    "colab_type": "text",
    "id": "Z17ndEpB2jKR"
   },
   "source": [
    "Embedding layer from word2vec custom embeddings"
   ]
  },
  {
   "cell_type": "code",
   "execution_count": 0,
   "metadata": {
    "colab": {},
    "colab_type": "code",
    "id": "02Xi8B1SP9Vn"
   },
   "outputs": [],
   "source": [
    "embed = Embedding(vocab,\n",
    "                  EMBEDDING_DIM,\n",
    "                  weights=[embed_matrix],\n",
    "                  trainable=True, \n",
    "                  embeddings_regularizer=l2(WREG))"
   ]
  },
  {
   "cell_type": "markdown",
   "metadata": {
    "colab_type": "text",
    "id": "_-cDQe8tasS3"
   },
   "source": [
    "Input and CNNs"
   ]
  },
  {
   "cell_type": "code",
   "execution_count": 0,
   "metadata": {
    "colab": {},
    "colab_type": "code",
    "id": "p23DiCKPasS5"
   },
   "outputs": [],
   "source": [
    "inputs = Input(shape=(SEQ_LEN,), dtype='int32')\n",
    "embed_sequence = embed(inputs)\n",
    "\n",
    "embed_sequence = Dropout(WDROP_RATE)(embed_sequence)\n",
    "\n",
    "\n",
    "cnn1 = Conv1D(filters = CHIDDEN_SIZE, \n",
    "              kernel_regularizer=l2(CREG), \n",
    "              kernel_size=(3), \n",
    "              padding= \"same\", \n",
    "              strides=1)(embed_sequence)\n",
    "cnn1 = Activation('relu')(cnn1)\n",
    "cnn1 = MaxPooling1D(5)(cnn1)\n",
    "cnn1 = Dropout(CDROP_RATE)(cnn1)\n",
    "\n",
    "\n",
    "cnn2 = Conv1D(filters = CHIDDEN_SIZE, \n",
    "              kernel_regularizer=l2(CREG), \n",
    "              kernel_size=(5), \n",
    "              padding=\"valid\", \n",
    "              strides=1)(cnn1)\n",
    "\n",
    "cnn2 = Activation('relu')(cnn2)\n",
    "cnn2 = MaxPooling1D(5)(cnn2)\n",
    "cnn2 = Dropout(CDROP_RATE)(cnn2)"
   ]
  },
  {
   "cell_type": "markdown",
   "metadata": {
    "colab_type": "text",
    "id": "auIIv7tWasS6"
   },
   "source": [
    "RNN and Attention"
   ]
  },
  {
   "cell_type": "code",
   "execution_count": 0,
   "metadata": {
    "colab": {},
    "colab_type": "code",
    "id": "pWSRTaVoasS6"
   },
   "outputs": [],
   "source": [
    "lstm1 = LSTM(RHIDDEN_SIZE, \n",
    "             kernel_regularizer=l2(RREG), \n",
    "             return_sequences = True)(cnn2)\n",
    "lstm1 = AttentionWithContext()(lstm1)\n",
    "lstm1 = Dropout(RDROP_RATE)(lstm1)"
   ]
  },
  {
   "cell_type": "markdown",
   "metadata": {
    "colab_type": "text",
    "id": "r8OW-vauasS8"
   },
   "source": [
    "Feedforward with leaky relu (arbitrary hidden size choice) and softmax"
   ]
  },
  {
   "cell_type": "code",
   "execution_count": 0,
   "metadata": {
    "colab": {},
    "colab_type": "code",
    "id": "YgjdlptVasS8"
   },
   "outputs": [],
   "source": [
    "out = Dense(DHIDDEN_SIZE,\n",
    "            kernel_regularizer=l2(DREG))(lstm1)\n",
    "out = LeakyReLU()(out)\n",
    "out = Dropout(DDROP_RATE)(out)\n",
    "\n",
    "\n",
    "prediction = Dense(LAB_NUMBER, \n",
    "                   activation = 'softmax')(out)"
   ]
  },
  {
   "cell_type": "code",
   "execution_count": 0,
   "metadata": {
    "colab": {},
    "colab_type": "code",
    "id": "ZmsZ263tasS-"
   },
   "outputs": [],
   "source": [
    "model = Model(inputs, prediction)"
   ]
  },
  {
   "cell_type": "code",
   "execution_count": 35,
   "metadata": {
    "colab": {
     "base_uri": "https://localhost:8080/",
     "height": 748
    },
    "colab_type": "code",
    "id": "hq1BNhR1asTA",
    "outputId": "7ee8ac74-7119-4150-ff4e-2cff31ece037"
   },
   "outputs": [
    {
     "name": "stdout",
     "output_type": "stream",
     "text": [
      "_________________________________________________________________\n",
      "Layer (type)                 Output Shape              Param #   \n",
      "=================================================================\n",
      "input_2 (InputLayer)         (None, 1000)              0         \n",
      "_________________________________________________________________\n",
      "embedding_2 (Embedding)      (None, 1000, 300)         6000000   \n",
      "_________________________________________________________________\n",
      "dropout_6 (Dropout)          (None, 1000, 300)         0         \n",
      "_________________________________________________________________\n",
      "conv1d_3 (Conv1D)            (None, 1000, 32)          28832     \n",
      "_________________________________________________________________\n",
      "activation_3 (Activation)    (None, 1000, 32)          0         \n",
      "_________________________________________________________________\n",
      "max_pooling1d_3 (MaxPooling1 (None, 200, 32)           0         \n",
      "_________________________________________________________________\n",
      "dropout_7 (Dropout)          (None, 200, 32)           0         \n",
      "_________________________________________________________________\n",
      "conv1d_4 (Conv1D)            (None, 196, 32)           5152      \n",
      "_________________________________________________________________\n",
      "activation_4 (Activation)    (None, 196, 32)           0         \n",
      "_________________________________________________________________\n",
      "max_pooling1d_4 (MaxPooling1 (None, 39, 32)            0         \n",
      "_________________________________________________________________\n",
      "dropout_8 (Dropout)          (None, 39, 32)            0         \n",
      "_________________________________________________________________\n",
      "lstm_2 (LSTM)                (None, 39, 64)            24832     \n",
      "_________________________________________________________________\n",
      "attention_with_context_2 (At (None, 64)                4224      \n",
      "_________________________________________________________________\n",
      "dropout_9 (Dropout)          (None, 64)                0         \n",
      "_________________________________________________________________\n",
      "dense_3 (Dense)              (None, 128)               8320      \n",
      "_________________________________________________________________\n",
      "leaky_re_lu_2 (LeakyReLU)    (None, 128)               0         \n",
      "_________________________________________________________________\n",
      "dropout_10 (Dropout)         (None, 128)               0         \n",
      "_________________________________________________________________\n",
      "dense_4 (Dense)              (None, 20)                2580      \n",
      "=================================================================\n",
      "Total params: 6,073,940\n",
      "Trainable params: 6,073,940\n",
      "Non-trainable params: 0\n",
      "_________________________________________________________________\n"
     ]
    }
   ],
   "source": [
    "model.summary()"
   ]
  },
  {
   "cell_type": "code",
   "execution_count": 0,
   "metadata": {
    "colab": {},
    "colab_type": "code",
    "id": "d1u0JyFwasTC"
   },
   "outputs": [],
   "source": [
    "model.compile(loss = 'categorical_crossentropy',\n",
    "              optimizer = 'adam',\n",
    "              metrics = ['acc'])"
   ]
  },
  {
   "cell_type": "markdown",
   "metadata": {},
   "source": [
    "Early stopping and storing best model"
   ]
  },
  {
   "cell_type": "code",
   "execution_count": 0,
   "metadata": {
    "colab": {},
    "colab_type": "code",
    "id": "LTqwa9AuPZo-"
   },
   "outputs": [],
   "source": [
    "callbacks = [EarlyStopping(monitor = 'val_loss', patience = 5),\n",
    "             ModelCheckpoint(filepath = 'best_model.h5', monitor= 'val_loss', save_best_only = True)]"
   ]
  },
  {
   "cell_type": "markdown",
   "metadata": {},
   "source": [
    "Training"
   ]
  },
  {
   "cell_type": "code",
   "execution_count": 38,
   "metadata": {
    "colab": {
     "base_uri": "https://localhost:8080/",
     "height": 1496
    },
    "colab_type": "code",
    "id": "YUBJRWnkasTE",
    "outputId": "6d498981-5f0a-4404-be4b-69ca71b962bc"
   },
   "outputs": [
    {
     "name": "stdout",
     "output_type": "stream",
     "text": [
      "Train on 11314 samples, validate on 7532 samples\n",
      "Epoch 1/100\n",
      "11314/11314 [==============================] - 23s 2ms/step - loss: 134.0025 - acc: 0.0658 - val_loss: 115.9850 - val_acc: 0.0738\n",
      "Epoch 2/100\n",
      "11314/11314 [==============================] - 19s 2ms/step - loss: 101.7727 - acc: 0.0839 - val_loss: 88.3621 - val_acc: 0.1087\n",
      "Epoch 3/100\n",
      "11314/11314 [==============================] - 18s 2ms/step - loss: 77.7018 - acc: 0.1159 - val_loss: 67.6578 - val_acc: 0.1304\n",
      "Epoch 4/100\n",
      "11314/11314 [==============================] - 18s 2ms/step - loss: 59.6842 - acc: 0.1563 - val_loss: 52.1663 - val_acc: 0.2003\n",
      "Epoch 5/100\n",
      "11314/11314 [==============================] - 18s 2ms/step - loss: 46.1429 - acc: 0.2053 - val_loss: 40.4808 - val_acc: 0.2410\n",
      "Epoch 6/100\n",
      "11314/11314 [==============================] - 18s 2ms/step - loss: 35.8978 - acc: 0.2479 - val_loss: 31.5559 - val_acc: 0.2939\n",
      "Epoch 7/100\n",
      "11314/11314 [==============================] - 18s 2ms/step - loss: 28.0311 - acc: 0.2976 - val_loss: 24.7849 - val_acc: 0.3263\n",
      "Epoch 8/100\n",
      "11314/11314 [==============================] - 18s 2ms/step - loss: 21.9580 - acc: 0.3666 - val_loss: 19.5166 - val_acc: 0.3899\n",
      "Epoch 9/100\n",
      "11314/11314 [==============================] - 18s 2ms/step - loss: 17.3330 - acc: 0.4091 - val_loss: 15.5087 - val_acc: 0.4263\n",
      "Epoch 10/100\n",
      "11314/11314 [==============================] - 18s 2ms/step - loss: 13.7288 - acc: 0.4720 - val_loss: 12.4547 - val_acc: 0.4630\n",
      "Epoch 11/100\n",
      "11314/11314 [==============================] - 18s 2ms/step - loss: 10.9490 - acc: 0.5397 - val_loss: 9.9807 - val_acc: 0.5402\n",
      "Epoch 12/100\n",
      "11314/11314 [==============================] - 18s 2ms/step - loss: 8.7805 - acc: 0.6047 - val_loss: 8.1406 - val_acc: 0.5787\n",
      "Epoch 13/100\n",
      "11314/11314 [==============================] - 18s 2ms/step - loss: 7.1024 - acc: 0.6632 - val_loss: 6.7143 - val_acc: 0.6147\n",
      "Epoch 14/100\n",
      "11314/11314 [==============================] - 19s 2ms/step - loss: 5.7985 - acc: 0.7036 - val_loss: 5.5889 - val_acc: 0.6454\n",
      "Epoch 15/100\n",
      "11314/11314 [==============================] - 18s 2ms/step - loss: 4.7868 - acc: 0.7266 - val_loss: 4.8102 - val_acc: 0.6422\n",
      "Epoch 16/100\n",
      "11314/11314 [==============================] - 18s 2ms/step - loss: 3.9852 - acc: 0.7567 - val_loss: 4.1058 - val_acc: 0.6625\n",
      "Epoch 17/100\n",
      "11314/11314 [==============================] - 18s 2ms/step - loss: 3.3617 - acc: 0.7842 - val_loss: 3.5900 - val_acc: 0.6764\n",
      "Epoch 18/100\n",
      "11314/11314 [==============================] - 18s 2ms/step - loss: 2.8659 - acc: 0.7998 - val_loss: 3.1686 - val_acc: 0.6948\n",
      "Epoch 19/100\n",
      "11314/11314 [==============================] - 18s 2ms/step - loss: 2.4903 - acc: 0.8198 - val_loss: 2.8981 - val_acc: 0.6982\n",
      "Epoch 20/100\n",
      "11314/11314 [==============================] - 19s 2ms/step - loss: 2.1710 - acc: 0.8391 - val_loss: 2.6863 - val_acc: 0.7120\n",
      "Epoch 21/100\n",
      "11314/11314 [==============================] - 19s 2ms/step - loss: 1.9068 - acc: 0.8560 - val_loss: 2.4793 - val_acc: 0.7104\n",
      "Epoch 22/100\n",
      "11314/11314 [==============================] - 18s 2ms/step - loss: 1.7187 - acc: 0.8626 - val_loss: 2.3067 - val_acc: 0.7250\n",
      "Epoch 23/100\n",
      "11314/11314 [==============================] - 18s 2ms/step - loss: 1.5403 - acc: 0.8787 - val_loss: 2.1836 - val_acc: 0.7296\n",
      "Epoch 24/100\n",
      "11314/11314 [==============================] - 18s 2ms/step - loss: 1.4209 - acc: 0.8762 - val_loss: 2.1804 - val_acc: 0.7075\n",
      "Epoch 25/100\n",
      "11314/11314 [==============================] - 18s 2ms/step - loss: 1.3088 - acc: 0.8894 - val_loss: 2.0395 - val_acc: 0.7273\n",
      "Epoch 26/100\n",
      "11314/11314 [==============================] - 18s 2ms/step - loss: 1.2149 - acc: 0.8975 - val_loss: 2.0047 - val_acc: 0.7257\n",
      "Epoch 27/100\n",
      "11314/11314 [==============================] - 18s 2ms/step - loss: 1.1286 - acc: 0.9040 - val_loss: 1.9554 - val_acc: 0.7326\n",
      "Epoch 28/100\n",
      "11314/11314 [==============================] - 18s 2ms/step - loss: 1.0595 - acc: 0.9098 - val_loss: 1.9205 - val_acc: 0.7285\n",
      "Epoch 29/100\n",
      "11314/11314 [==============================] - 18s 2ms/step - loss: 1.0001 - acc: 0.9176 - val_loss: 1.9123 - val_acc: 0.7300\n",
      "Epoch 30/100\n",
      "11314/11314 [==============================] - 18s 2ms/step - loss: 0.9518 - acc: 0.9200 - val_loss: 1.8284 - val_acc: 0.7366\n",
      "Epoch 31/100\n",
      "11314/11314 [==============================] - 18s 2ms/step - loss: 0.9024 - acc: 0.9265 - val_loss: 1.8659 - val_acc: 0.7329\n",
      "Epoch 32/100\n",
      "11314/11314 [==============================] - 18s 2ms/step - loss: 0.8695 - acc: 0.9265 - val_loss: 1.8750 - val_acc: 0.7310\n",
      "Epoch 33/100\n",
      "11314/11314 [==============================] - 19s 2ms/step - loss: 0.8360 - acc: 0.9314 - val_loss: 1.8091 - val_acc: 0.7377\n",
      "Epoch 34/100\n",
      "11314/11314 [==============================] - 19s 2ms/step - loss: 0.8078 - acc: 0.9318 - val_loss: 1.8106 - val_acc: 0.7383\n",
      "Epoch 35/100\n",
      "11314/11314 [==============================] - 18s 2ms/step - loss: 0.7498 - acc: 0.9432 - val_loss: 1.7942 - val_acc: 0.7415\n",
      "Epoch 36/100\n",
      "11314/11314 [==============================] - 18s 2ms/step - loss: 0.7385 - acc: 0.9395 - val_loss: 1.8099 - val_acc: 0.7310\n",
      "Epoch 37/100\n",
      "11314/11314 [==============================] - 18s 2ms/step - loss: 0.7237 - acc: 0.9408 - val_loss: 1.7599 - val_acc: 0.7366\n",
      "Epoch 38/100\n",
      "11314/11314 [==============================] - 18s 2ms/step - loss: 0.6982 - acc: 0.9450 - val_loss: 1.7213 - val_acc: 0.7461\n",
      "Epoch 39/100\n",
      "11314/11314 [==============================] - 18s 2ms/step - loss: 0.6811 - acc: 0.9428 - val_loss: 1.7594 - val_acc: 0.7477\n",
      "Epoch 40/100\n",
      "11314/11314 [==============================] - 17s 2ms/step - loss: 0.6689 - acc: 0.9479 - val_loss: 1.7291 - val_acc: 0.7431\n",
      "Epoch 41/100\n",
      "11314/11314 [==============================] - 17s 2ms/step - loss: 0.6503 - acc: 0.9491 - val_loss: 1.7795 - val_acc: 0.7379\n",
      "Epoch 42/100\n",
      "11314/11314 [==============================] - 18s 2ms/step - loss: 0.6278 - acc: 0.9525 - val_loss: 1.7513 - val_acc: 0.7465\n",
      "Epoch 43/100\n",
      "11314/11314 [==============================] - 18s 2ms/step - loss: 0.6167 - acc: 0.9503 - val_loss: 1.7472 - val_acc: 0.7432\n"
     ]
    }
   ],
   "source": [
    "history = model.fit(X_train, y_train, \n",
    "          validation_data = (X_test, y_test),\n",
    "          epochs = EPOCH,\n",
    "          verbose = 1,\n",
    "          callbacks = callbacks,\n",
    "          batch_size = BATCH_SIZE)"
   ]
  },
  {
   "cell_type": "markdown",
   "metadata": {
    "colab_type": "text",
    "id": "tHeILZnRasTF"
   },
   "source": [
    "Accuracy and loss analysis"
   ]
  },
  {
   "cell_type": "code",
   "execution_count": 39,
   "metadata": {
    "colab": {
     "base_uri": "https://localhost:8080/",
     "height": 51
    },
    "colab_type": "code",
    "id": "lBIVwMven0ez",
    "outputId": "26a9f03c-745d-4896-a5bc-2acb786d1bf1"
   },
   "outputs": [
    {
     "name": "stdout",
     "output_type": "stream",
     "text": [
      "7532/7532 [==============================] - 8s 1ms/step\n",
      "Evaluation result on Test Data : Cost = 1.7472432944854397, accuracy = 74.32288901006928\n"
     ]
    }
   ],
   "source": [
    "[test_cost, test_acc] = model.evaluate(X_test, y_test)\n",
    "print(\"Evaluation result on Test Data : Cost = {}, accuracy = {}\".format(test_cost, (test_acc*100)))"
   ]
  },
  {
   "cell_type": "code",
   "execution_count": 0,
   "metadata": {
    "colab": {},
    "colab_type": "code",
    "id": "34i299rpwcG0"
   },
   "outputs": [],
   "source": [
    "import seaborn as sn\n",
    "import matplotlib.pyplot as plt\n",
    "%matplotlib inline"
   ]
  },
  {
   "cell_type": "code",
   "execution_count": 41,
   "metadata": {
    "colab": {
     "base_uri": "https://localhost:8080/",
     "height": 822
    },
    "colab_type": "code",
    "id": "RWBIm1_0rMsz",
    "outputId": "bbff6237-dafe-420d-b598-089b5fcd0fd4"
   },
   "outputs": [
    {
     "data": {
      "text/plain": [
       "Text(0.5,1,'Accuracy Curves')"
      ]
     },
     "execution_count": 41,
     "metadata": {
      "tags": []
     },
     "output_type": "execute_result"
    },
    {
     "data": {
      "image/png": "[encoded data removed]",
      "text/plain": [
       "<matplotlib.figure.Figure at 0x7f7ffd98b400>"
      ]
     },
     "metadata": {
      "tags": []
     },
     "output_type": "display_data"
    },
    {
     "data": {
      "image/png": "[encoded data removed]",
      "text/plain": [
       "<matplotlib.figure.Figure at 0x7f7ffc9c5940>"
      ]
     },
     "metadata": {
      "tags": []
     },
     "output_type": "display_data"
    }
   ],
   "source": [
    "#Plot cost\n",
    "plt.figure(figsize=[8,6])\n",
    "plt.plot(history.history['loss'],'r',linewidth=3.0)\n",
    "plt.plot(history.history['val_loss'],'b',linewidth=3.0)\n",
    "plt.legend(['Training cost', 'Validation cost'],fontsize=18)\n",
    "plt.xlabel('Epochs ',fontsize=16)\n",
    "plt.ylabel('Cost',fontsize=16)\n",
    "plt.title('Cost Curves',fontsize=16)\n",
    " \n",
    "#Plot accuracy\n",
    "plt.figure(figsize=[8,6])\n",
    "plt.plot(history.history['acc'],'r',linewidth=3.0)\n",
    "plt.plot(history.history['val_acc'],'b',linewidth=3.0)\n",
    "plt.legend(['Training Accuracy', 'Validation Accuracy'],fontsize=18)\n",
    "plt.xlabel('Epochs ',fontsize=16)\n",
    "plt.ylabel('Accuracy',fontsize=16)\n",
    "plt.title('Accuracy Curves',fontsize=16)"
   ]
  },
  {
   "cell_type": "markdown",
   "metadata": {},
   "source": [
    "Soooo much overfitting"
   ]
  },
  {
   "cell_type": "markdown",
   "metadata": {
    "colab_type": "text",
    "id": "r0kM7Ewu0taS"
   },
   "source": [
    "Error analysis:\n",
    "\n",
    "Precision, recall, F1, support, and confusion matrix "
   ]
  },
  {
   "cell_type": "code",
   "execution_count": 0,
   "metadata": {
    "colab": {},
    "colab_type": "code",
    "id": "sO0Jgy4QXT9N"
   },
   "outputs": [],
   "source": [
    "from sklearn.metrics import precision_recall_fscore_support as score\n",
    "from sklearn.metrics import confusion_matrix"
   ]
  },
  {
   "cell_type": "code",
   "execution_count": 0,
   "metadata": {
    "colab": {},
    "colab_type": "code",
    "id": "4lVXEJnsXW2i"
   },
   "outputs": [],
   "source": [
    "y_probs = model.predict(X_test)\n",
    "y_hat = y_probs.argmax(axis = -1)"
   ]
  },
  {
   "cell_type": "code",
   "execution_count": 0,
   "metadata": {
    "colab": {},
    "colab_type": "code",
    "id": "AzZQWptsXs3G"
   },
   "outputs": [],
   "source": [
    "precision, recall, fscore, support = score(test_labels[test_data.index], y_hat)"
   ]
  },
  {
   "cell_type": "code",
   "execution_count": 45,
   "metadata": {
    "colab": {
     "base_uri": "https://localhost:8080/",
     "height": 153
    },
    "colab_type": "code",
    "id": "mbn0-t2zoVua",
    "outputId": "931e61c3-06af-442e-b5a7-c5a173d7f150"
   },
   "outputs": [
    {
     "data": {
      "text/plain": [
       "array(['alt.atheism', 'comp.graphics', 'comp.os.ms-windows.misc',\n",
       "       'comp.sys.ibm.pc.hardware', 'comp.sys.mac.hardware',\n",
       "       'comp.windows.x', 'misc.forsale', 'rec.autos', 'rec.motorcycles',\n",
       "       'rec.sport.baseball', 'rec.sport.hockey', 'sci.crypt',\n",
       "       'sci.electronics', 'sci.med', 'sci.space',\n",
       "       'soc.religion.christian', 'talk.politics.guns',\n",
       "       'talk.politics.mideast', 'talk.politics.misc',\n",
       "       'talk.religion.misc'], dtype=object)"
      ]
     },
     "execution_count": 45,
     "metadata": {
      "tags": []
     },
     "output_type": "execute_result"
    }
   ],
   "source": [
    "test_categories"
   ]
  },
  {
   "cell_type": "code",
   "execution_count": 0,
   "metadata": {
    "colab": {},
    "colab_type": "code",
    "id": "hjeN5sz5vHGr"
   },
   "outputs": [],
   "source": [
    "cm = confusion_matrix(test_labels[test_data.index], y_hat)"
   ]
  },
  {
   "cell_type": "code",
   "execution_count": 47,
   "metadata": {
    "colab": {
     "base_uri": "https://localhost:8080/",
     "height": 697
    },
    "colab_type": "code",
    "id": "5tEFERVwvwBe",
    "outputId": "5e9afa8b-bbc3-4bcc-e29b-d839b02ee516"
   },
   "outputs": [
    {
     "name": "stdout",
     "output_type": "stream",
     "text": [
      "[[234   0   0   0   0   0   1   1   0   6   0   1   0   4   2  25   2   4\n",
      "   11  28]\n",
      " [  0 260   8  25   5  18   6   1   0   3   7   4  33   9   7   0   1   1\n",
      "    1   0]\n",
      " [  0  29 231  75   6  13   2   6   0   1   1   2  10   3   6   7   0   1\n",
      "    0   1]\n",
      " [  0   7  14 324   7   1   5   1   0   0   0   0  29   0   0   3   0   0\n",
      "    1   0]\n",
      " [  0   2   3  82 242   0   7   4   0   0   1   0  40   3   0   0   0   0\n",
      "    1   0]\n",
      " [  0  39  42   2   5 266   1   0   2   0   1   2  17   3  15   0   0   0\n",
      "    0   0]\n",
      " [  0   5   1  38   5   0 296   9   6   3   1   0  19   2   2   3   0   0\n",
      "    0   0]\n",
      " [  0   0   0   5   9   2  10 305  13   1   0   0  26  16   1   3   1   0\n",
      "    1   3]\n",
      " [  0   1   0   0   0   0   1   7 350   1   0   2  20  15   0   1   0   0\n",
      "    0   0]\n",
      " [  1   0   0   0   0   0  12   0   0 355   9   0   3   6   0   6   0   1\n",
      "    2   2]\n",
      " [  0   6   1   0   1   0   3   0   0  33 349   0   1   0   3   1   0   0\n",
      "    1   0]\n",
      " [  0   1   3   2   0   2   1   0   1   0   0 349   9   9   6   1   4   0\n",
      "    8   0]\n",
      " [  0   4   4  42   8   3  16   4   5   1   0   0 270  26   5   4   0   0\n",
      "    1   0]\n",
      " [  2   4   0   1   0   2   5   0   2   9   0   1  52 279   7   7   3   1\n",
      "   20   1]\n",
      " [  0  14   0   0   0   2   1   0   1   2   0   2  12  15 324   0   1   0\n",
      "   20   0]\n",
      " [ 41   2   0   1   0   0   5   2   0   1   0   0   5   5   2 300   0   1\n",
      "    1  32]\n",
      " [  2   0   0   0   0   2   2   0   1   3   0   7   0  20   0   1 287   3\n",
      "   21  15]\n",
      " [ 33   0   0   1   0   0   2   0   0  13   0   0   0   4   0   3   9 284\n",
      "   26   1]\n",
      " [  4   0   0   0   0   1   0   2   1   6   1   7   3  21   4   2  78   5\n",
      "  170   5]\n",
      " [ 46   0   0   0   0   0   0   2   0   2   0   0   1  10   2  38  16   1\n",
      "   10 123]]\n"
     ]
    }
   ],
   "source": [
    "print(cm)"
   ]
  },
  {
   "cell_type": "code",
   "execution_count": 48,
   "metadata": {
    "colab": {
     "base_uri": "https://localhost:8080/",
     "height": 1181
    },
    "colab_type": "code",
    "id": "8pDOT-fzv3WW",
    "outputId": "1a5cac28-503f-431f-d0a2-c66ccf0521b8"
   },
   "outputs": [
    {
     "data": {
      "text/plain": [
       "Text(0.5,1,'CNN & RNN Hybrid Network Text Classification Confusion Matrix')"
      ]
     },
     "execution_count": 48,
     "metadata": {
      "tags": []
     },
     "output_type": "execute_result"
    },
    {
     "data": {
      "image/png": "[encoded data removed]",
      "text/plain": [
       "<matplotlib.figure.Figure at 0x7f7ff4597828>"
      ]
     },
     "metadata": {
      "tags": []
     },
     "output_type": "display_data"
    }
   ],
   "source": [
    "cm = pd.DataFrame(cm, index = [i for i in test_categories], columns = [i for i in test_categories])\n",
    "plt.figure(figsize = (20, 18))\n",
    "sn.heatmap(cm, annot=True)\n",
    "plt.xlabel('Predicted Label')\n",
    "plt.ylabel('True Label')\n",
    "plt.title('CNN & RNN Hybrid Network Text Classification Confusion Matrix')"
   ]
  },
  {
   "cell_type": "code",
   "execution_count": 0,
   "metadata": {
    "colab": {},
    "colab_type": "code",
    "id": "W18cG5rVifqY"
   },
   "outputs": [],
   "source": [
    "analysis = pd.DataFrame([precision, recall, fscore, support], columns= ['{0}'.format(i) for i in test_categories])\n",
    "analysis.insert(0, 'Metric', ['Precision', 'Recall', 'F1 Score', 'Support'])"
   ]
  },
  {
   "cell_type": "code",
   "execution_count": 50,
   "metadata": {
    "colab": {
     "base_uri": "https://localhost:8080/",
     "height": 239
    },
    "colab_type": "code",
    "id": "LpIVpLaDl-56",
    "outputId": "812b5986-12dc-41a8-f757-448960083f86"
   },
   "outputs": [
    {
     "data": {
      "text/html": [
       "<div>\n",
       "<style scoped>\n",
       "    .dataframe tbody tr th:only-of-type {\n",
       "        vertical-align: middle;\n",
       "    }\n",
       "\n",
       "    .dataframe tbody tr th {\n",
       "        vertical-align: top;\n",
       "    }\n",
       "\n",
       "    .dataframe thead th {\n",
       "        text-align: right;\n",
       "    }\n",
       "</style>\n",
       "<table border=\"1\" class=\"dataframe\">\n",
       "  <thead>\n",
       "    <tr style=\"text-align: right;\">\n",
       "      <th></th>\n",
       "      <th>Metric</th>\n",
       "      <th>alt.atheism</th>\n",
       "      <th>comp.graphics</th>\n",
       "      <th>comp.os.ms-windows.misc</th>\n",
       "      <th>comp.sys.ibm.pc.hardware</th>\n",
       "      <th>comp.sys.mac.hardware</th>\n",
       "      <th>comp.windows.x</th>\n",
       "      <th>misc.forsale</th>\n",
       "      <th>rec.autos</th>\n",
       "      <th>rec.motorcycles</th>\n",
       "      <th>...</th>\n",
       "      <th>rec.sport.hockey</th>\n",
       "      <th>sci.crypt</th>\n",
       "      <th>sci.electronics</th>\n",
       "      <th>sci.med</th>\n",
       "      <th>sci.space</th>\n",
       "      <th>soc.religion.christian</th>\n",
       "      <th>talk.politics.guns</th>\n",
       "      <th>talk.politics.mideast</th>\n",
       "      <th>talk.politics.misc</th>\n",
       "      <th>talk.religion.misc</th>\n",
       "    </tr>\n",
       "  </thead>\n",
       "  <tbody>\n",
       "    <tr>\n",
       "      <th>0</th>\n",
       "      <td>Precision</td>\n",
       "      <td>0.644628</td>\n",
       "      <td>0.695187</td>\n",
       "      <td>0.752443</td>\n",
       "      <td>0.541806</td>\n",
       "      <td>0.840278</td>\n",
       "      <td>0.852564</td>\n",
       "      <td>0.787234</td>\n",
       "      <td>0.886628</td>\n",
       "      <td>0.916230</td>\n",
       "      <td>...</td>\n",
       "      <td>0.943243</td>\n",
       "      <td>0.925729</td>\n",
       "      <td>0.490909</td>\n",
       "      <td>0.620000</td>\n",
       "      <td>0.839378</td>\n",
       "      <td>0.740741</td>\n",
       "      <td>0.713930</td>\n",
       "      <td>0.940397</td>\n",
       "      <td>0.576271</td>\n",
       "      <td>0.582938</td>\n",
       "    </tr>\n",
       "    <tr>\n",
       "      <th>1</th>\n",
       "      <td>Recall</td>\n",
       "      <td>0.733542</td>\n",
       "      <td>0.668380</td>\n",
       "      <td>0.586294</td>\n",
       "      <td>0.826531</td>\n",
       "      <td>0.628571</td>\n",
       "      <td>0.673418</td>\n",
       "      <td>0.758974</td>\n",
       "      <td>0.770202</td>\n",
       "      <td>0.879397</td>\n",
       "      <td>...</td>\n",
       "      <td>0.874687</td>\n",
       "      <td>0.881313</td>\n",
       "      <td>0.687023</td>\n",
       "      <td>0.704545</td>\n",
       "      <td>0.822335</td>\n",
       "      <td>0.753769</td>\n",
       "      <td>0.788462</td>\n",
       "      <td>0.755319</td>\n",
       "      <td>0.548387</td>\n",
       "      <td>0.490040</td>\n",
       "    </tr>\n",
       "    <tr>\n",
       "      <th>2</th>\n",
       "      <td>F1 Score</td>\n",
       "      <td>0.686217</td>\n",
       "      <td>0.681520</td>\n",
       "      <td>0.659058</td>\n",
       "      <td>0.654545</td>\n",
       "      <td>0.719168</td>\n",
       "      <td>0.752475</td>\n",
       "      <td>0.772846</td>\n",
       "      <td>0.824324</td>\n",
       "      <td>0.897436</td>\n",
       "      <td>...</td>\n",
       "      <td>0.907672</td>\n",
       "      <td>0.902975</td>\n",
       "      <td>0.572641</td>\n",
       "      <td>0.659574</td>\n",
       "      <td>0.830769</td>\n",
       "      <td>0.747198</td>\n",
       "      <td>0.749347</td>\n",
       "      <td>0.837758</td>\n",
       "      <td>0.561983</td>\n",
       "      <td>0.532468</td>\n",
       "    </tr>\n",
       "    <tr>\n",
       "      <th>3</th>\n",
       "      <td>Support</td>\n",
       "      <td>319.000000</td>\n",
       "      <td>389.000000</td>\n",
       "      <td>394.000000</td>\n",
       "      <td>392.000000</td>\n",
       "      <td>385.000000</td>\n",
       "      <td>395.000000</td>\n",
       "      <td>390.000000</td>\n",
       "      <td>396.000000</td>\n",
       "      <td>398.000000</td>\n",
       "      <td>...</td>\n",
       "      <td>399.000000</td>\n",
       "      <td>396.000000</td>\n",
       "      <td>393.000000</td>\n",
       "      <td>396.000000</td>\n",
       "      <td>394.000000</td>\n",
       "      <td>398.000000</td>\n",
       "      <td>364.000000</td>\n",
       "      <td>376.000000</td>\n",
       "      <td>310.000000</td>\n",
       "      <td>251.000000</td>\n",
       "    </tr>\n",
       "  </tbody>\n",
       "</table>\n",
       "<p>4 rows × 21 columns</p>\n",
       "</div>"
      ],
      "text/plain": [
       "      Metric  alt.atheism  comp.graphics  comp.os.ms-windows.misc  \\\n",
       "0  Precision     0.644628       0.695187                 0.752443   \n",
       "1     Recall     0.733542       0.668380                 0.586294   \n",
       "2   F1 Score     0.686217       0.681520                 0.659058   \n",
       "3    Support   319.000000     389.000000               394.000000   \n",
       "\n",
       "   comp.sys.ibm.pc.hardware  comp.sys.mac.hardware  comp.windows.x  \\\n",
       "0                  0.541806               0.840278        0.852564   \n",
       "1                  0.826531               0.628571        0.673418   \n",
       "2                  0.654545               0.719168        0.752475   \n",
       "3                392.000000             385.000000      395.000000   \n",
       "\n",
       "   misc.forsale   rec.autos  rec.motorcycles         ...          \\\n",
       "0      0.787234    0.886628         0.916230         ...           \n",
       "1      0.758974    0.770202         0.879397         ...           \n",
       "2      0.772846    0.824324         0.897436         ...           \n",
       "3    390.000000  396.000000       398.000000         ...           \n",
       "\n",
       "   rec.sport.hockey   sci.crypt  sci.electronics     sci.med   sci.space  \\\n",
       "0          0.943243    0.925729         0.490909    0.620000    0.839378   \n",
       "1          0.874687    0.881313         0.687023    0.704545    0.822335   \n",
       "2          0.907672    0.902975         0.572641    0.659574    0.830769   \n",
       "3        399.000000  396.000000       393.000000  396.000000  394.000000   \n",
       "\n",
       "   soc.religion.christian  talk.politics.guns  talk.politics.mideast  \\\n",
       "0                0.740741            0.713930               0.940397   \n",
       "1                0.753769            0.788462               0.755319   \n",
       "2                0.747198            0.749347               0.837758   \n",
       "3              398.000000          364.000000             376.000000   \n",
       "\n",
       "   talk.politics.misc  talk.religion.misc  \n",
       "0            0.576271            0.582938  \n",
       "1            0.548387            0.490040  \n",
       "2            0.561983            0.532468  \n",
       "3          310.000000          251.000000  \n",
       "\n",
       "[4 rows x 21 columns]"
      ]
     },
     "execution_count": 50,
     "metadata": {
      "tags": []
     },
     "output_type": "execute_result"
    }
   ],
   "source": [
    "analysis"
   ]
  },
  {
   "cell_type": "markdown",
   "metadata": {
    "colab_type": "text",
    "id": "AY3C-CdQasTG"
   },
   "source": [
    "Set up dataframe with model probabilities for each label to be submitted."
   ]
  },
  {
   "cell_type": "code",
   "execution_count": 0,
   "metadata": {
    "colab": {},
    "colab_type": "code",
    "id": "iJ0G8fqGasTG"
   },
   "outputs": [],
   "source": [
    "probabilities = [(i*100) for i in model.predict(X_test)]"
   ]
  },
  {
   "cell_type": "code",
   "execution_count": 0,
   "metadata": {
    "colab": {},
    "colab_type": "code",
    "id": "qIqPQsElasTJ"
   },
   "outputs": [],
   "source": [
    "submit = pd.DataFrame(probabilities, columns= ['{0}'.format(i) for i in test_categories])\n",
    "submit.insert(0, 'doc_id', test_data['Doc ID'])"
   ]
  },
  {
   "cell_type": "code",
   "execution_count": 53,
   "metadata": {
    "colab": {
     "base_uri": "https://localhost:8080/",
     "height": 355
    },
    "colab_type": "code",
    "id": "izHoA51EasTM",
    "outputId": "977259dd-ceda-4462-dc33-24f01c5abe63"
   },
   "outputs": [
    {
     "data": {
      "text/html": [
       "<div>\n",
       "<style scoped>\n",
       "    .dataframe tbody tr th:only-of-type {\n",
       "        vertical-align: middle;\n",
       "    }\n",
       "\n",
       "    .dataframe tbody tr th {\n",
       "        vertical-align: top;\n",
       "    }\n",
       "\n",
       "    .dataframe thead th {\n",
       "        text-align: right;\n",
       "    }\n",
       "</style>\n",
       "<table border=\"1\" class=\"dataframe\">\n",
       "  <thead>\n",
       "    <tr style=\"text-align: right;\">\n",
       "      <th></th>\n",
       "      <th>doc_id</th>\n",
       "      <th>alt.atheism</th>\n",
       "      <th>comp.graphics</th>\n",
       "      <th>comp.os.ms-windows.misc</th>\n",
       "      <th>comp.sys.ibm.pc.hardware</th>\n",
       "      <th>comp.sys.mac.hardware</th>\n",
       "      <th>comp.windows.x</th>\n",
       "      <th>misc.forsale</th>\n",
       "      <th>rec.autos</th>\n",
       "      <th>rec.motorcycles</th>\n",
       "      <th>...</th>\n",
       "      <th>rec.sport.hockey</th>\n",
       "      <th>sci.crypt</th>\n",
       "      <th>sci.electronics</th>\n",
       "      <th>sci.med</th>\n",
       "      <th>sci.space</th>\n",
       "      <th>soc.religion.christian</th>\n",
       "      <th>talk.politics.guns</th>\n",
       "      <th>talk.politics.mideast</th>\n",
       "      <th>talk.politics.misc</th>\n",
       "      <th>talk.religion.misc</th>\n",
       "    </tr>\n",
       "  </thead>\n",
       "  <tbody>\n",
       "    <tr>\n",
       "      <th>0</th>\n",
       "      <td>11315</td>\n",
       "      <td>0.056593</td>\n",
       "      <td>8.540541e-04</td>\n",
       "      <td>0.031314</td>\n",
       "      <td>0.125964</td>\n",
       "      <td>3.174802e-04</td>\n",
       "      <td>1.940543e-05</td>\n",
       "      <td>8.346889</td>\n",
       "      <td>4.369277e-02</td>\n",
       "      <td>5.740671e-04</td>\n",
       "      <td>...</td>\n",
       "      <td>0.000777</td>\n",
       "      <td>1.458603e-06</td>\n",
       "      <td>1.144469e-02</td>\n",
       "      <td>1.815930e-03</td>\n",
       "      <td>4.679830e-06</td>\n",
       "      <td>91.122940</td>\n",
       "      <td>0.000010</td>\n",
       "      <td>0.000170</td>\n",
       "      <td>0.000049</td>\n",
       "      <td>0.038365</td>\n",
       "    </tr>\n",
       "    <tr>\n",
       "      <th>1</th>\n",
       "      <td>11316</td>\n",
       "      <td>99.792686</td>\n",
       "      <td>4.896406e-08</td>\n",
       "      <td>0.000080</td>\n",
       "      <td>0.000035</td>\n",
       "      <td>3.247700e-07</td>\n",
       "      <td>1.494821e-08</td>\n",
       "      <td>0.000104</td>\n",
       "      <td>1.228440e-06</td>\n",
       "      <td>1.152171e-07</td>\n",
       "      <td>...</td>\n",
       "      <td>0.000021</td>\n",
       "      <td>9.706645e-08</td>\n",
       "      <td>1.177347e-09</td>\n",
       "      <td>2.308408e-08</td>\n",
       "      <td>4.145175e-10</td>\n",
       "      <td>0.034520</td>\n",
       "      <td>0.000062</td>\n",
       "      <td>0.090581</td>\n",
       "      <td>0.000072</td>\n",
       "      <td>0.077998</td>\n",
       "    </tr>\n",
       "    <tr>\n",
       "      <th>2</th>\n",
       "      <td>11317</td>\n",
       "      <td>99.822601</td>\n",
       "      <td>1.366868e-08</td>\n",
       "      <td>0.000013</td>\n",
       "      <td>0.000010</td>\n",
       "      <td>5.045452e-08</td>\n",
       "      <td>1.696845e-09</td>\n",
       "      <td>0.000045</td>\n",
       "      <td>1.813997e-07</td>\n",
       "      <td>1.633575e-08</td>\n",
       "      <td>...</td>\n",
       "      <td>0.000016</td>\n",
       "      <td>2.335708e-08</td>\n",
       "      <td>1.743397e-10</td>\n",
       "      <td>5.623336e-09</td>\n",
       "      <td>1.429224e-10</td>\n",
       "      <td>0.015923</td>\n",
       "      <td>0.000021</td>\n",
       "      <td>0.135304</td>\n",
       "      <td>0.000068</td>\n",
       "      <td>0.021148</td>\n",
       "    </tr>\n",
       "    <tr>\n",
       "      <th>3</th>\n",
       "      <td>11318</td>\n",
       "      <td>99.803856</td>\n",
       "      <td>2.977960e-07</td>\n",
       "      <td>0.000222</td>\n",
       "      <td>0.000091</td>\n",
       "      <td>3.667644e-07</td>\n",
       "      <td>4.085156e-08</td>\n",
       "      <td>0.000308</td>\n",
       "      <td>1.561924e-06</td>\n",
       "      <td>1.776926e-07</td>\n",
       "      <td>...</td>\n",
       "      <td>0.000114</td>\n",
       "      <td>2.036482e-07</td>\n",
       "      <td>2.815453e-09</td>\n",
       "      <td>2.350687e-08</td>\n",
       "      <td>1.514597e-09</td>\n",
       "      <td>0.043119</td>\n",
       "      <td>0.000048</td>\n",
       "      <td>0.102905</td>\n",
       "      <td>0.000124</td>\n",
       "      <td>0.039502</td>\n",
       "    </tr>\n",
       "    <tr>\n",
       "      <th>4</th>\n",
       "      <td>11319</td>\n",
       "      <td>45.023201</td>\n",
       "      <td>4.282093e-05</td>\n",
       "      <td>0.000082</td>\n",
       "      <td>0.000075</td>\n",
       "      <td>4.390365e-06</td>\n",
       "      <td>3.772335e-06</td>\n",
       "      <td>0.001687</td>\n",
       "      <td>3.372220e-05</td>\n",
       "      <td>1.098894e-05</td>\n",
       "      <td>...</td>\n",
       "      <td>0.012591</td>\n",
       "      <td>2.681177e-04</td>\n",
       "      <td>1.361561e-06</td>\n",
       "      <td>2.731420e-03</td>\n",
       "      <td>2.713023e-04</td>\n",
       "      <td>0.722341</td>\n",
       "      <td>0.066519</td>\n",
       "      <td>32.566135</td>\n",
       "      <td>14.203943</td>\n",
       "      <td>0.602432</td>\n",
       "    </tr>\n",
       "  </tbody>\n",
       "</table>\n",
       "<p>5 rows × 21 columns</p>\n",
       "</div>"
      ],
      "text/plain": [
       "   doc_id  alt.atheism  comp.graphics  comp.os.ms-windows.misc  \\\n",
       "0   11315     0.056593   8.540541e-04                 0.031314   \n",
       "1   11316    99.792686   4.896406e-08                 0.000080   \n",
       "2   11317    99.822601   1.366868e-08                 0.000013   \n",
       "3   11318    99.803856   2.977960e-07                 0.000222   \n",
       "4   11319    45.023201   4.282093e-05                 0.000082   \n",
       "\n",
       "   comp.sys.ibm.pc.hardware  comp.sys.mac.hardware  comp.windows.x  \\\n",
       "0                  0.125964           3.174802e-04    1.940543e-05   \n",
       "1                  0.000035           3.247700e-07    1.494821e-08   \n",
       "2                  0.000010           5.045452e-08    1.696845e-09   \n",
       "3                  0.000091           3.667644e-07    4.085156e-08   \n",
       "4                  0.000075           4.390365e-06    3.772335e-06   \n",
       "\n",
       "   misc.forsale     rec.autos  rec.motorcycles         ...          \\\n",
       "0      8.346889  4.369277e-02     5.740671e-04         ...           \n",
       "1      0.000104  1.228440e-06     1.152171e-07         ...           \n",
       "2      0.000045  1.813997e-07     1.633575e-08         ...           \n",
       "3      0.000308  1.561924e-06     1.776926e-07         ...           \n",
       "4      0.001687  3.372220e-05     1.098894e-05         ...           \n",
       "\n",
       "   rec.sport.hockey     sci.crypt  sci.electronics       sci.med  \\\n",
       "0          0.000777  1.458603e-06     1.144469e-02  1.815930e-03   \n",
       "1          0.000021  9.706645e-08     1.177347e-09  2.308408e-08   \n",
       "2          0.000016  2.335708e-08     1.743397e-10  5.623336e-09   \n",
       "3          0.000114  2.036482e-07     2.815453e-09  2.350687e-08   \n",
       "4          0.012591  2.681177e-04     1.361561e-06  2.731420e-03   \n",
       "\n",
       "      sci.space  soc.religion.christian  talk.politics.guns  \\\n",
       "0  4.679830e-06               91.122940            0.000010   \n",
       "1  4.145175e-10                0.034520            0.000062   \n",
       "2  1.429224e-10                0.015923            0.000021   \n",
       "3  1.514597e-09                0.043119            0.000048   \n",
       "4  2.713023e-04                0.722341            0.066519   \n",
       "\n",
       "   talk.politics.mideast  talk.politics.misc  talk.religion.misc  \n",
       "0               0.000170            0.000049            0.038365  \n",
       "1               0.090581            0.000072            0.077998  \n",
       "2               0.135304            0.000068            0.021148  \n",
       "3               0.102905            0.000124            0.039502  \n",
       "4              32.566135           14.203943            0.602432  \n",
       "\n",
       "[5 rows x 21 columns]"
      ]
     },
     "execution_count": 53,
     "metadata": {
      "tags": []
     },
     "output_type": "execute_result"
    }
   ],
   "source": [
    "submit.head()"
   ]
  },
  {
   "cell_type": "code",
   "execution_count": 54,
   "metadata": {
    "colab": {
     "base_uri": "https://localhost:8080/",
     "height": 355
    },
    "colab_type": "code",
    "id": "QOWWGeSUasTN",
    "outputId": "9315deff-61c3-4b91-e4b7-72508cbc6890"
   },
   "outputs": [
    {
     "data": {
      "text/html": [
       "<div>\n",
       "<style scoped>\n",
       "    .dataframe tbody tr th:only-of-type {\n",
       "        vertical-align: middle;\n",
       "    }\n",
       "\n",
       "    .dataframe tbody tr th {\n",
       "        vertical-align: top;\n",
       "    }\n",
       "\n",
       "    .dataframe thead th {\n",
       "        text-align: right;\n",
       "    }\n",
       "</style>\n",
       "<table border=\"1\" class=\"dataframe\">\n",
       "  <thead>\n",
       "    <tr style=\"text-align: right;\">\n",
       "      <th></th>\n",
       "      <th>doc_id</th>\n",
       "      <th>alt.atheism</th>\n",
       "      <th>comp.graphics</th>\n",
       "      <th>comp.os.ms-windows.misc</th>\n",
       "      <th>comp.sys.ibm.pc.hardware</th>\n",
       "      <th>comp.sys.mac.hardware</th>\n",
       "      <th>comp.windows.x</th>\n",
       "      <th>misc.forsale</th>\n",
       "      <th>rec.autos</th>\n",
       "      <th>rec.motorcycles</th>\n",
       "      <th>...</th>\n",
       "      <th>rec.sport.hockey</th>\n",
       "      <th>sci.crypt</th>\n",
       "      <th>sci.electronics</th>\n",
       "      <th>sci.med</th>\n",
       "      <th>sci.space</th>\n",
       "      <th>soc.religion.christian</th>\n",
       "      <th>talk.politics.guns</th>\n",
       "      <th>talk.politics.mideast</th>\n",
       "      <th>talk.politics.misc</th>\n",
       "      <th>talk.religion.misc</th>\n",
       "    </tr>\n",
       "  </thead>\n",
       "  <tbody>\n",
       "    <tr>\n",
       "      <th>7527</th>\n",
       "      <td>18842</td>\n",
       "      <td>0.029025</td>\n",
       "      <td>3.185937e-07</td>\n",
       "      <td>0.000475</td>\n",
       "      <td>0.000094</td>\n",
       "      <td>8.036739e-03</td>\n",
       "      <td>0.000734</td>\n",
       "      <td>0.000309</td>\n",
       "      <td>1.029681</td>\n",
       "      <td>0.062516</td>\n",
       "      <td>...</td>\n",
       "      <td>1.551068e-07</td>\n",
       "      <td>0.001185</td>\n",
       "      <td>0.000448</td>\n",
       "      <td>0.346591</td>\n",
       "      <td>3.689000e-06</td>\n",
       "      <td>0.142864</td>\n",
       "      <td>0.279471</td>\n",
       "      <td>0.000190</td>\n",
       "      <td>0.001183</td>\n",
       "      <td>98.097130</td>\n",
       "    </tr>\n",
       "    <tr>\n",
       "      <th>7528</th>\n",
       "      <td>18843</td>\n",
       "      <td>0.017982</td>\n",
       "      <td>1.262858e-09</td>\n",
       "      <td>0.000068</td>\n",
       "      <td>0.000014</td>\n",
       "      <td>1.112724e-03</td>\n",
       "      <td>0.000004</td>\n",
       "      <td>0.000034</td>\n",
       "      <td>0.065981</td>\n",
       "      <td>0.001787</td>\n",
       "      <td>...</td>\n",
       "      <td>8.999919e-10</td>\n",
       "      <td>0.000007</td>\n",
       "      <td>0.000003</td>\n",
       "      <td>0.001442</td>\n",
       "      <td>1.529569e-09</td>\n",
       "      <td>0.017076</td>\n",
       "      <td>0.011526</td>\n",
       "      <td>0.000009</td>\n",
       "      <td>0.000006</td>\n",
       "      <td>99.882942</td>\n",
       "    </tr>\n",
       "    <tr>\n",
       "      <th>7529</th>\n",
       "      <td>18844</td>\n",
       "      <td>6.186457</td>\n",
       "      <td>1.841930e-02</td>\n",
       "      <td>0.025861</td>\n",
       "      <td>0.016211</td>\n",
       "      <td>5.231418e-03</td>\n",
       "      <td>0.024252</td>\n",
       "      <td>0.246769</td>\n",
       "      <td>0.222634</td>\n",
       "      <td>0.076346</td>\n",
       "      <td>...</td>\n",
       "      <td>1.351406e-01</td>\n",
       "      <td>0.235833</td>\n",
       "      <td>0.056325</td>\n",
       "      <td>13.667950</td>\n",
       "      <td>3.658213e-01</td>\n",
       "      <td>16.045944</td>\n",
       "      <td>1.757245</td>\n",
       "      <td>2.264268</td>\n",
       "      <td>38.732422</td>\n",
       "      <td>7.809118</td>\n",
       "    </tr>\n",
       "    <tr>\n",
       "      <th>7530</th>\n",
       "      <td>18845</td>\n",
       "      <td>0.248638</td>\n",
       "      <td>1.192085e-04</td>\n",
       "      <td>0.000014</td>\n",
       "      <td>0.000004</td>\n",
       "      <td>4.950112e-07</td>\n",
       "      <td>0.000017</td>\n",
       "      <td>0.000508</td>\n",
       "      <td>0.000012</td>\n",
       "      <td>0.000009</td>\n",
       "      <td>...</td>\n",
       "      <td>2.668590e-02</td>\n",
       "      <td>0.002428</td>\n",
       "      <td>0.000002</td>\n",
       "      <td>0.007976</td>\n",
       "      <td>2.124896e-02</td>\n",
       "      <td>0.045876</td>\n",
       "      <td>0.033130</td>\n",
       "      <td>3.361185</td>\n",
       "      <td>92.661980</td>\n",
       "      <td>0.015736</td>\n",
       "    </tr>\n",
       "    <tr>\n",
       "      <th>7531</th>\n",
       "      <td>18846</td>\n",
       "      <td>0.208608</td>\n",
       "      <td>3.816803e-08</td>\n",
       "      <td>0.000361</td>\n",
       "      <td>0.000064</td>\n",
       "      <td>5.509153e-04</td>\n",
       "      <td>0.000016</td>\n",
       "      <td>0.000131</td>\n",
       "      <td>0.099068</td>\n",
       "      <td>0.000376</td>\n",
       "      <td>...</td>\n",
       "      <td>4.787169e-08</td>\n",
       "      <td>0.000004</td>\n",
       "      <td>0.000040</td>\n",
       "      <td>0.006683</td>\n",
       "      <td>7.130209e-08</td>\n",
       "      <td>10.721655</td>\n",
       "      <td>0.005552</td>\n",
       "      <td>0.000094</td>\n",
       "      <td>0.000114</td>\n",
       "      <td>88.956573</td>\n",
       "    </tr>\n",
       "  </tbody>\n",
       "</table>\n",
       "<p>5 rows × 21 columns</p>\n",
       "</div>"
      ],
      "text/plain": [
       "      doc_id  alt.atheism  comp.graphics  comp.os.ms-windows.misc  \\\n",
       "7527   18842     0.029025   3.185937e-07                 0.000475   \n",
       "7528   18843     0.017982   1.262858e-09                 0.000068   \n",
       "7529   18844     6.186457   1.841930e-02                 0.025861   \n",
       "7530   18845     0.248638   1.192085e-04                 0.000014   \n",
       "7531   18846     0.208608   3.816803e-08                 0.000361   \n",
       "\n",
       "      comp.sys.ibm.pc.hardware  comp.sys.mac.hardware  comp.windows.x  \\\n",
       "7527                  0.000094           8.036739e-03        0.000734   \n",
       "7528                  0.000014           1.112724e-03        0.000004   \n",
       "7529                  0.016211           5.231418e-03        0.024252   \n",
       "7530                  0.000004           4.950112e-07        0.000017   \n",
       "7531                  0.000064           5.509153e-04        0.000016   \n",
       "\n",
       "      misc.forsale  rec.autos  rec.motorcycles         ...          \\\n",
       "7527      0.000309   1.029681         0.062516         ...           \n",
       "7528      0.000034   0.065981         0.001787         ...           \n",
       "7529      0.246769   0.222634         0.076346         ...           \n",
       "7530      0.000508   0.000012         0.000009         ...           \n",
       "7531      0.000131   0.099068         0.000376         ...           \n",
       "\n",
       "      rec.sport.hockey  sci.crypt  sci.electronics    sci.med     sci.space  \\\n",
       "7527      1.551068e-07   0.001185         0.000448   0.346591  3.689000e-06   \n",
       "7528      8.999919e-10   0.000007         0.000003   0.001442  1.529569e-09   \n",
       "7529      1.351406e-01   0.235833         0.056325  13.667950  3.658213e-01   \n",
       "7530      2.668590e-02   0.002428         0.000002   0.007976  2.124896e-02   \n",
       "7531      4.787169e-08   0.000004         0.000040   0.006683  7.130209e-08   \n",
       "\n",
       "      soc.religion.christian  talk.politics.guns  talk.politics.mideast  \\\n",
       "7527                0.142864            0.279471               0.000190   \n",
       "7528                0.017076            0.011526               0.000009   \n",
       "7529               16.045944            1.757245               2.264268   \n",
       "7530                0.045876            0.033130               3.361185   \n",
       "7531               10.721655            0.005552               0.000094   \n",
       "\n",
       "      talk.politics.misc  talk.religion.misc  \n",
       "7527            0.001183           98.097130  \n",
       "7528            0.000006           99.882942  \n",
       "7529           38.732422            7.809118  \n",
       "7530           92.661980            0.015736  \n",
       "7531            0.000114           88.956573  \n",
       "\n",
       "[5 rows x 21 columns]"
      ]
     },
     "execution_count": 54,
     "metadata": {
      "tags": []
     },
     "output_type": "execute_result"
    }
   ],
   "source": [
    "submit.tail()"
   ]
  },
  {
   "cell_type": "code",
   "execution_count": 0,
   "metadata": {
    "colab": {},
    "colab_type": "code",
    "id": "4NcjtRedasTP"
   },
   "outputs": [],
   "source": [
    "submit.to_csv(\"we_are_done.csv\")"
   ]
  },
  {
   "cell_type": "markdown",
   "metadata": {
    "colab_type": "text",
    "id": "PmfuGJ2PasTV"
   },
   "source": [
    "**Potential improvements to current approach **\n",
    "\n",
    "Sentence level embeddings instead of word level (sent2vec)\n",
    "\n",
    "Hyperparameter tuning for better regularization: Dropout precentage, l2 regularization parameter\n",
    "\n",
    "More comprehensive preprocessing. The vocab size was 126k which is much too large, indicating the stemmer wasn't stemming very well.\n",
    "\n",
    "Use text frequency inverse document frequency (tfidf) to reduce vocab size.\n",
    "\n",
    "Use word-piece or character-level instead of word level like https://arxiv.org/abs/1609.03777 for example.\n",
    "\n",
    "** Alternative approaches **\n",
    "\n",
    "Pure CNNs > softmax\n",
    "\n",
    "Pure RNNs > softmax\n",
    "\n",
    "bag of words count vectorizer (BoW) > tfidf >  single value decomposition (SVD) > support vector machine (SVM) (no neural network)\n",
    "\n",
    "**Production**\n",
    "\n",
    "Once the model has been optimized, pickle the model to store it and retrieve it in its original state.\n",
    "\n",
    "If necessary, use JSON to store data\n",
    "\n",
    "Use  Flask, Django, Falcon, Hug, etc for web-based application\n",
    "\n",
    "Create API\n",
    "\n",
    "Deploy API perhaps using virtual machine"
   ]
  }
 ],
 "metadata": {
  "accelerator": "GPU",
  "colab": {
   "name": "Text_classification.ipynb",
   "provenance": [],
   "version": "0.3.2"
  },
  "kernelspec": {
   "display_name": "Python 3",
   "language": "python",
   "name": "python3"
  },
  "language_info": {
   "codemirror_mode": {
    "name": "ipython",
    "version": 3
   },
   "file_extension": ".py",
   "mimetype": "text/x-python",
   "name": "python",
   "nbconvert_exporter": "python",
   "pygments_lexer": "ipython3",
   "version": "3.6.5"
  }
 },
 "nbformat": 4,
 "nbformat_minor": 1
}
